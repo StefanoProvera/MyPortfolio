{
  "nbformat": 4,
  "nbformat_minor": 0,
  "metadata": {
    "colab": {
      "provenance": [],
      "gpuType": "T4"
    },
    "kernelspec": {
      "name": "python3",
      "display_name": "Python 3"
    },
    "language_info": {
      "name": "python"
    },
    "accelerator": "GPU"
  },
  "cells": [
    {
      "cell_type": "markdown",
      "source": [
        "# <font color=\"red\">**Assignment 7 Filtro anti-hater per social network**</font>\n",
        "Negli ultimi anni, la moderazione dei contenuti online è diventata una sfida cruciale per molte piattaforme, che si trovano ad affrontare un volume crescente di commenti potenzialmente dannosi. Questi commenti possono includere insulti, minacce, contenuti osceni o messaggi di odio. La moderazione manuale è inefficace su larga scala, e gli algoritmi tradizionali spesso non riescono a catturare la complessità e la varietà dei linguaggi offensivi.\n",
        "\n",
        "# <font color=\"red\">**Problema da risolvere**</font>\n",
        "L'azienda TechTalk, un forum per appassionati di tecnologia, ha riscontrato che un numero significativo di commenti pubblicati nei thread della community contiene espressioni di odio e insulti che compromettono la qualità delle discussioni. Gli utenti hanno segnalato che la piattaforma, a causa della sua popolarità crescente, fatica a gestire il flusso di commenti dannosi con strumenti di moderazione tradizionali. TechTalk si è rivolta a DeepCortex AI Solutions per implementare una soluzione di moderazione automatica basata su Deep Learning, che sia in grado di filtrare in tempo reale i commenti tossici.\n",
        "\n",
        "# <font color=\"red\">**Obiettivo del Progetto**</font>\n",
        "- **Task**: Classificazione multi-label dei commenti in 6 categorie:\n",
        " 1. Toxic (Tossico)\n",
        " 2. Severely Toxic (Super Tossico)\n",
        " 3. Obscene (Osceno)\n",
        " 4. Threat (Minaccia)\n",
        " 5. Insult (Insulto)\n",
        " 6. Identity Hate (Odio basato sull’identità)\n",
        "\n",
        "- **Dataset**: Un dataset di 160.000 commenti sarà fornito, con ogni commento etichettato in una o più delle categorie sopra indicate. I commenti possono avere zero o più label attive.\n",
        "- **Architettura**: Il modello deve includere layer ricorrenti (ad esempio, LSTM o GRU) per gestire la natura sequenziale dei commenti testuali.\n",
        "- **Output**: A livello di inferenza, per ogni commento, il modello dovrà produrre un vettore di 6 elementi (uno per ogni label), con valori binari (0 o 1), dove 1 indica la presenza della label corrispondente e 0 la sua assenza."
      ],
      "metadata": {
        "id": "SqX7mQUKOWyV"
      }
    },
    {
      "cell_type": "code",
      "execution_count": null,
      "metadata": {
        "id": "HP3cG-FdLNee"
      },
      "outputs": [],
      "source": [
        "# Import delle librerie necessarie\n",
        "import os, re, string, sys, json, random, math, warnings\n",
        "warnings.filterwarnings(\"ignore\")\n",
        "\n",
        "import numpy as np\n",
        "import pandas as pd\n",
        "import matplotlib.pyplot as plt\n",
        "from sklearn.model_selection import train_test_split\n",
        "from sklearn.metrics import classification_report, accuracy_score, f1_score\n",
        "import tensorflow as tf\n",
        "from tensorflow.keras.preprocessing.text import Tokenizer\n",
        "from tensorflow.keras.preprocessing.sequence import pad_sequences\n",
        "from tensorflow.keras.models import Sequential\n",
        "from tensorflow.keras.layers import Embedding, Bidirectional, LSTM, GRU, Dense, Dropout, Conv1D, MaxPooling1D,GlobalMaxPooling1D\n",
        "from tensorflow.keras.callbacks import EarlyStopping, ReduceLROnPlateau, ModelCheckpoint"
      ]
    },
    {
      "cell_type": "markdown",
      "source": [
        "### <font color=\"yellow\">***Caricamento Dataset & Preprocessing***</font>"
      ],
      "metadata": {
        "id": "IPcQFhzZQiTs"
      }
    },
    {
      "cell_type": "code",
      "source": [
        "# imposto il seed per riproducibilità dei risultati\n",
        "SEED = 42\n",
        "np.random.seed(SEED)\n",
        "tf.random.set_seed(SEED)"
      ],
      "metadata": {
        "id": "lcgfZzjXOQo1"
      },
      "execution_count": null,
      "outputs": []
    },
    {
      "cell_type": "code",
      "source": [
        "# Caricamento Dataset\n",
        "dataset_url = \"https://proai-datasets.s3.eu-west-3.amazonaws.com/Filter_Toxic_Comments_dataset.csv\"\n",
        "\n",
        "df = pd.read_csv(dataset_url)\n",
        "print(\"Rows:\", len(df))\n",
        "display(df)"
      ],
      "metadata": {
        "colab": {
          "base_uri": "https://localhost:8080/",
          "height": 441
        },
        "id": "obCq4owrOQmd",
        "outputId": "d8129e2b-f7bb-45dd-ed8a-6643808d3cae"
      },
      "execution_count": null,
      "outputs": [
        {
          "output_type": "stream",
          "name": "stdout",
          "text": [
            "Rows: 159571\n"
          ]
        },
        {
          "output_type": "display_data",
          "data": {
            "text/plain": [
              "                                             comment_text  toxic  \\\n",
              "0       Explanation\\nWhy the edits made under my usern...      0   \n",
              "1       D'aww! He matches this background colour I'm s...      0   \n",
              "2       Hey man, I'm really not trying to edit war. It...      0   \n",
              "3       \"\\nMore\\nI can't make any real suggestions on ...      0   \n",
              "4       You, sir, are my hero. Any chance you remember...      0   \n",
              "...                                                   ...    ...   \n",
              "159566  \":::::And for the second time of asking, when ...      0   \n",
              "159567  You should be ashamed of yourself \\n\\nThat is ...      0   \n",
              "159568  Spitzer \\n\\nUmm, theres no actual article for ...      0   \n",
              "159569  And it looks like it was actually you who put ...      0   \n",
              "159570  \"\\nAnd ... I really don't think you understand...      0   \n",
              "\n",
              "        severe_toxic  obscene  threat  insult  identity_hate  sum_injurious  \n",
              "0                  0        0       0       0              0              0  \n",
              "1                  0        0       0       0              0              0  \n",
              "2                  0        0       0       0              0              0  \n",
              "3                  0        0       0       0              0              0  \n",
              "4                  0        0       0       0              0              0  \n",
              "...              ...      ...     ...     ...            ...            ...  \n",
              "159566             0        0       0       0              0              0  \n",
              "159567             0        0       0       0              0              0  \n",
              "159568             0        0       0       0              0              0  \n",
              "159569             0        0       0       0              0              0  \n",
              "159570             0        0       0       0              0              0  \n",
              "\n",
              "[159571 rows x 8 columns]"
            ],
            "text/html": [
              "\n",
              "  <div id=\"df-8525a012-fc26-4837-a4b8-5ec617a5cf11\" class=\"colab-df-container\">\n",
              "    <div>\n",
              "<style scoped>\n",
              "    .dataframe tbody tr th:only-of-type {\n",
              "        vertical-align: middle;\n",
              "    }\n",
              "\n",
              "    .dataframe tbody tr th {\n",
              "        vertical-align: top;\n",
              "    }\n",
              "\n",
              "    .dataframe thead th {\n",
              "        text-align: right;\n",
              "    }\n",
              "</style>\n",
              "<table border=\"1\" class=\"dataframe\">\n",
              "  <thead>\n",
              "    <tr style=\"text-align: right;\">\n",
              "      <th></th>\n",
              "      <th>comment_text</th>\n",
              "      <th>toxic</th>\n",
              "      <th>severe_toxic</th>\n",
              "      <th>obscene</th>\n",
              "      <th>threat</th>\n",
              "      <th>insult</th>\n",
              "      <th>identity_hate</th>\n",
              "      <th>sum_injurious</th>\n",
              "    </tr>\n",
              "  </thead>\n",
              "  <tbody>\n",
              "    <tr>\n",
              "      <th>0</th>\n",
              "      <td>Explanation\\nWhy the edits made under my usern...</td>\n",
              "      <td>0</td>\n",
              "      <td>0</td>\n",
              "      <td>0</td>\n",
              "      <td>0</td>\n",
              "      <td>0</td>\n",
              "      <td>0</td>\n",
              "      <td>0</td>\n",
              "    </tr>\n",
              "    <tr>\n",
              "      <th>1</th>\n",
              "      <td>D'aww! He matches this background colour I'm s...</td>\n",
              "      <td>0</td>\n",
              "      <td>0</td>\n",
              "      <td>0</td>\n",
              "      <td>0</td>\n",
              "      <td>0</td>\n",
              "      <td>0</td>\n",
              "      <td>0</td>\n",
              "    </tr>\n",
              "    <tr>\n",
              "      <th>2</th>\n",
              "      <td>Hey man, I'm really not trying to edit war. It...</td>\n",
              "      <td>0</td>\n",
              "      <td>0</td>\n",
              "      <td>0</td>\n",
              "      <td>0</td>\n",
              "      <td>0</td>\n",
              "      <td>0</td>\n",
              "      <td>0</td>\n",
              "    </tr>\n",
              "    <tr>\n",
              "      <th>3</th>\n",
              "      <td>\"\\nMore\\nI can't make any real suggestions on ...</td>\n",
              "      <td>0</td>\n",
              "      <td>0</td>\n",
              "      <td>0</td>\n",
              "      <td>0</td>\n",
              "      <td>0</td>\n",
              "      <td>0</td>\n",
              "      <td>0</td>\n",
              "    </tr>\n",
              "    <tr>\n",
              "      <th>4</th>\n",
              "      <td>You, sir, are my hero. Any chance you remember...</td>\n",
              "      <td>0</td>\n",
              "      <td>0</td>\n",
              "      <td>0</td>\n",
              "      <td>0</td>\n",
              "      <td>0</td>\n",
              "      <td>0</td>\n",
              "      <td>0</td>\n",
              "    </tr>\n",
              "    <tr>\n",
              "      <th>...</th>\n",
              "      <td>...</td>\n",
              "      <td>...</td>\n",
              "      <td>...</td>\n",
              "      <td>...</td>\n",
              "      <td>...</td>\n",
              "      <td>...</td>\n",
              "      <td>...</td>\n",
              "      <td>...</td>\n",
              "    </tr>\n",
              "    <tr>\n",
              "      <th>159566</th>\n",
              "      <td>\":::::And for the second time of asking, when ...</td>\n",
              "      <td>0</td>\n",
              "      <td>0</td>\n",
              "      <td>0</td>\n",
              "      <td>0</td>\n",
              "      <td>0</td>\n",
              "      <td>0</td>\n",
              "      <td>0</td>\n",
              "    </tr>\n",
              "    <tr>\n",
              "      <th>159567</th>\n",
              "      <td>You should be ashamed of yourself \\n\\nThat is ...</td>\n",
              "      <td>0</td>\n",
              "      <td>0</td>\n",
              "      <td>0</td>\n",
              "      <td>0</td>\n",
              "      <td>0</td>\n",
              "      <td>0</td>\n",
              "      <td>0</td>\n",
              "    </tr>\n",
              "    <tr>\n",
              "      <th>159568</th>\n",
              "      <td>Spitzer \\n\\nUmm, theres no actual article for ...</td>\n",
              "      <td>0</td>\n",
              "      <td>0</td>\n",
              "      <td>0</td>\n",
              "      <td>0</td>\n",
              "      <td>0</td>\n",
              "      <td>0</td>\n",
              "      <td>0</td>\n",
              "    </tr>\n",
              "    <tr>\n",
              "      <th>159569</th>\n",
              "      <td>And it looks like it was actually you who put ...</td>\n",
              "      <td>0</td>\n",
              "      <td>0</td>\n",
              "      <td>0</td>\n",
              "      <td>0</td>\n",
              "      <td>0</td>\n",
              "      <td>0</td>\n",
              "      <td>0</td>\n",
              "    </tr>\n",
              "    <tr>\n",
              "      <th>159570</th>\n",
              "      <td>\"\\nAnd ... I really don't think you understand...</td>\n",
              "      <td>0</td>\n",
              "      <td>0</td>\n",
              "      <td>0</td>\n",
              "      <td>0</td>\n",
              "      <td>0</td>\n",
              "      <td>0</td>\n",
              "      <td>0</td>\n",
              "    </tr>\n",
              "  </tbody>\n",
              "</table>\n",
              "<p>159571 rows × 8 columns</p>\n",
              "</div>\n",
              "    <div class=\"colab-df-buttons\">\n",
              "\n",
              "  <div class=\"colab-df-container\">\n",
              "    <button class=\"colab-df-convert\" onclick=\"convertToInteractive('df-8525a012-fc26-4837-a4b8-5ec617a5cf11')\"\n",
              "            title=\"Convert this dataframe to an interactive table.\"\n",
              "            style=\"display:none;\">\n",
              "\n",
              "  <svg xmlns=\"http://www.w3.org/2000/svg\" height=\"24px\" viewBox=\"0 -960 960 960\">\n",
              "    <path d=\"M120-120v-720h720v720H120Zm60-500h600v-160H180v160Zm220 220h160v-160H400v160Zm0 220h160v-160H400v160ZM180-400h160v-160H180v160Zm440 0h160v-160H620v160ZM180-180h160v-160H180v160Zm440 0h160v-160H620v160Z\"/>\n",
              "  </svg>\n",
              "    </button>\n",
              "\n",
              "  <style>\n",
              "    .colab-df-container {\n",
              "      display:flex;\n",
              "      gap: 12px;\n",
              "    }\n",
              "\n",
              "    .colab-df-convert {\n",
              "      background-color: #E8F0FE;\n",
              "      border: none;\n",
              "      border-radius: 50%;\n",
              "      cursor: pointer;\n",
              "      display: none;\n",
              "      fill: #1967D2;\n",
              "      height: 32px;\n",
              "      padding: 0 0 0 0;\n",
              "      width: 32px;\n",
              "    }\n",
              "\n",
              "    .colab-df-convert:hover {\n",
              "      background-color: #E2EBFA;\n",
              "      box-shadow: 0px 1px 2px rgba(60, 64, 67, 0.3), 0px 1px 3px 1px rgba(60, 64, 67, 0.15);\n",
              "      fill: #174EA6;\n",
              "    }\n",
              "\n",
              "    .colab-df-buttons div {\n",
              "      margin-bottom: 4px;\n",
              "    }\n",
              "\n",
              "    [theme=dark] .colab-df-convert {\n",
              "      background-color: #3B4455;\n",
              "      fill: #D2E3FC;\n",
              "    }\n",
              "\n",
              "    [theme=dark] .colab-df-convert:hover {\n",
              "      background-color: #434B5C;\n",
              "      box-shadow: 0px 1px 3px 1px rgba(0, 0, 0, 0.15);\n",
              "      filter: drop-shadow(0px 1px 2px rgba(0, 0, 0, 0.3));\n",
              "      fill: #FFFFFF;\n",
              "    }\n",
              "  </style>\n",
              "\n",
              "    <script>\n",
              "      const buttonEl =\n",
              "        document.querySelector('#df-8525a012-fc26-4837-a4b8-5ec617a5cf11 button.colab-df-convert');\n",
              "      buttonEl.style.display =\n",
              "        google.colab.kernel.accessAllowed ? 'block' : 'none';\n",
              "\n",
              "      async function convertToInteractive(key) {\n",
              "        const element = document.querySelector('#df-8525a012-fc26-4837-a4b8-5ec617a5cf11');\n",
              "        const dataTable =\n",
              "          await google.colab.kernel.invokeFunction('convertToInteractive',\n",
              "                                                    [key], {});\n",
              "        if (!dataTable) return;\n",
              "\n",
              "        const docLinkHtml = 'Like what you see? Visit the ' +\n",
              "          '<a target=\"_blank\" href=https://colab.research.google.com/notebooks/data_table.ipynb>data table notebook</a>'\n",
              "          + ' to learn more about interactive tables.';\n",
              "        element.innerHTML = '';\n",
              "        dataTable['output_type'] = 'display_data';\n",
              "        await google.colab.output.renderOutput(dataTable, element);\n",
              "        const docLink = document.createElement('div');\n",
              "        docLink.innerHTML = docLinkHtml;\n",
              "        element.appendChild(docLink);\n",
              "      }\n",
              "    </script>\n",
              "  </div>\n",
              "\n",
              "\n",
              "    <div id=\"df-0e13d35a-8c90-44e5-8691-08407cfdc728\">\n",
              "      <button class=\"colab-df-quickchart\" onclick=\"quickchart('df-0e13d35a-8c90-44e5-8691-08407cfdc728')\"\n",
              "                title=\"Suggest charts\"\n",
              "                style=\"display:none;\">\n",
              "\n",
              "<svg xmlns=\"http://www.w3.org/2000/svg\" height=\"24px\"viewBox=\"0 0 24 24\"\n",
              "     width=\"24px\">\n",
              "    <g>\n",
              "        <path d=\"M19 3H5c-1.1 0-2 .9-2 2v14c0 1.1.9 2 2 2h14c1.1 0 2-.9 2-2V5c0-1.1-.9-2-2-2zM9 17H7v-7h2v7zm4 0h-2V7h2v10zm4 0h-2v-4h2v4z\"/>\n",
              "    </g>\n",
              "</svg>\n",
              "      </button>\n",
              "\n",
              "<style>\n",
              "  .colab-df-quickchart {\n",
              "      --bg-color: #E8F0FE;\n",
              "      --fill-color: #1967D2;\n",
              "      --hover-bg-color: #E2EBFA;\n",
              "      --hover-fill-color: #174EA6;\n",
              "      --disabled-fill-color: #AAA;\n",
              "      --disabled-bg-color: #DDD;\n",
              "  }\n",
              "\n",
              "  [theme=dark] .colab-df-quickchart {\n",
              "      --bg-color: #3B4455;\n",
              "      --fill-color: #D2E3FC;\n",
              "      --hover-bg-color: #434B5C;\n",
              "      --hover-fill-color: #FFFFFF;\n",
              "      --disabled-bg-color: #3B4455;\n",
              "      --disabled-fill-color: #666;\n",
              "  }\n",
              "\n",
              "  .colab-df-quickchart {\n",
              "    background-color: var(--bg-color);\n",
              "    border: none;\n",
              "    border-radius: 50%;\n",
              "    cursor: pointer;\n",
              "    display: none;\n",
              "    fill: var(--fill-color);\n",
              "    height: 32px;\n",
              "    padding: 0;\n",
              "    width: 32px;\n",
              "  }\n",
              "\n",
              "  .colab-df-quickchart:hover {\n",
              "    background-color: var(--hover-bg-color);\n",
              "    box-shadow: 0 1px 2px rgba(60, 64, 67, 0.3), 0 1px 3px 1px rgba(60, 64, 67, 0.15);\n",
              "    fill: var(--button-hover-fill-color);\n",
              "  }\n",
              "\n",
              "  .colab-df-quickchart-complete:disabled,\n",
              "  .colab-df-quickchart-complete:disabled:hover {\n",
              "    background-color: var(--disabled-bg-color);\n",
              "    fill: var(--disabled-fill-color);\n",
              "    box-shadow: none;\n",
              "  }\n",
              "\n",
              "  .colab-df-spinner {\n",
              "    border: 2px solid var(--fill-color);\n",
              "    border-color: transparent;\n",
              "    border-bottom-color: var(--fill-color);\n",
              "    animation:\n",
              "      spin 1s steps(1) infinite;\n",
              "  }\n",
              "\n",
              "  @keyframes spin {\n",
              "    0% {\n",
              "      border-color: transparent;\n",
              "      border-bottom-color: var(--fill-color);\n",
              "      border-left-color: var(--fill-color);\n",
              "    }\n",
              "    20% {\n",
              "      border-color: transparent;\n",
              "      border-left-color: var(--fill-color);\n",
              "      border-top-color: var(--fill-color);\n",
              "    }\n",
              "    30% {\n",
              "      border-color: transparent;\n",
              "      border-left-color: var(--fill-color);\n",
              "      border-top-color: var(--fill-color);\n",
              "      border-right-color: var(--fill-color);\n",
              "    }\n",
              "    40% {\n",
              "      border-color: transparent;\n",
              "      border-right-color: var(--fill-color);\n",
              "      border-top-color: var(--fill-color);\n",
              "    }\n",
              "    60% {\n",
              "      border-color: transparent;\n",
              "      border-right-color: var(--fill-color);\n",
              "    }\n",
              "    80% {\n",
              "      border-color: transparent;\n",
              "      border-right-color: var(--fill-color);\n",
              "      border-bottom-color: var(--fill-color);\n",
              "    }\n",
              "    90% {\n",
              "      border-color: transparent;\n",
              "      border-bottom-color: var(--fill-color);\n",
              "    }\n",
              "  }\n",
              "</style>\n",
              "\n",
              "      <script>\n",
              "        async function quickchart(key) {\n",
              "          const quickchartButtonEl =\n",
              "            document.querySelector('#' + key + ' button');\n",
              "          quickchartButtonEl.disabled = true;  // To prevent multiple clicks.\n",
              "          quickchartButtonEl.classList.add('colab-df-spinner');\n",
              "          try {\n",
              "            const charts = await google.colab.kernel.invokeFunction(\n",
              "                'suggestCharts', [key], {});\n",
              "          } catch (error) {\n",
              "            console.error('Error during call to suggestCharts:', error);\n",
              "          }\n",
              "          quickchartButtonEl.classList.remove('colab-df-spinner');\n",
              "          quickchartButtonEl.classList.add('colab-df-quickchart-complete');\n",
              "        }\n",
              "        (() => {\n",
              "          let quickchartButtonEl =\n",
              "            document.querySelector('#df-0e13d35a-8c90-44e5-8691-08407cfdc728 button');\n",
              "          quickchartButtonEl.style.display =\n",
              "            google.colab.kernel.accessAllowed ? 'block' : 'none';\n",
              "        })();\n",
              "      </script>\n",
              "    </div>\n",
              "\n",
              "  <div id=\"id_e5985b33-a41c-46c3-9d40-96fc37dcd03f\">\n",
              "    <style>\n",
              "      .colab-df-generate {\n",
              "        background-color: #E8F0FE;\n",
              "        border: none;\n",
              "        border-radius: 50%;\n",
              "        cursor: pointer;\n",
              "        display: none;\n",
              "        fill: #1967D2;\n",
              "        height: 32px;\n",
              "        padding: 0 0 0 0;\n",
              "        width: 32px;\n",
              "      }\n",
              "\n",
              "      .colab-df-generate:hover {\n",
              "        background-color: #E2EBFA;\n",
              "        box-shadow: 0px 1px 2px rgba(60, 64, 67, 0.3), 0px 1px 3px 1px rgba(60, 64, 67, 0.15);\n",
              "        fill: #174EA6;\n",
              "      }\n",
              "\n",
              "      [theme=dark] .colab-df-generate {\n",
              "        background-color: #3B4455;\n",
              "        fill: #D2E3FC;\n",
              "      }\n",
              "\n",
              "      [theme=dark] .colab-df-generate:hover {\n",
              "        background-color: #434B5C;\n",
              "        box-shadow: 0px 1px 3px 1px rgba(0, 0, 0, 0.15);\n",
              "        filter: drop-shadow(0px 1px 2px rgba(0, 0, 0, 0.3));\n",
              "        fill: #FFFFFF;\n",
              "      }\n",
              "    </style>\n",
              "    <button class=\"colab-df-generate\" onclick=\"generateWithVariable('df')\"\n",
              "            title=\"Generate code using this dataframe.\"\n",
              "            style=\"display:none;\">\n",
              "\n",
              "  <svg xmlns=\"http://www.w3.org/2000/svg\" height=\"24px\"viewBox=\"0 0 24 24\"\n",
              "       width=\"24px\">\n",
              "    <path d=\"M7,19H8.4L18.45,9,17,7.55,7,17.6ZM5,21V16.75L18.45,3.32a2,2,0,0,1,2.83,0l1.4,1.43a1.91,1.91,0,0,1,.58,1.4,1.91,1.91,0,0,1-.58,1.4L9.25,21ZM18.45,9,17,7.55Zm-12,3A5.31,5.31,0,0,0,4.9,8.1,5.31,5.31,0,0,0,1,6.5,5.31,5.31,0,0,0,4.9,4.9,5.31,5.31,0,0,0,6.5,1,5.31,5.31,0,0,0,8.1,4.9,5.31,5.31,0,0,0,12,6.5,5.46,5.46,0,0,0,6.5,12Z\"/>\n",
              "  </svg>\n",
              "    </button>\n",
              "    <script>\n",
              "      (() => {\n",
              "      const buttonEl =\n",
              "        document.querySelector('#id_e5985b33-a41c-46c3-9d40-96fc37dcd03f button.colab-df-generate');\n",
              "      buttonEl.style.display =\n",
              "        google.colab.kernel.accessAllowed ? 'block' : 'none';\n",
              "\n",
              "      buttonEl.onclick = () => {\n",
              "        google.colab.notebook.generateWithVariable('df');\n",
              "      }\n",
              "      })();\n",
              "    </script>\n",
              "  </div>\n",
              "\n",
              "    </div>\n",
              "  </div>\n"
            ],
            "application/vnd.google.colaboratory.intrinsic+json": {
              "type": "dataframe",
              "variable_name": "df"
            }
          },
          "metadata": {}
        }
      ]
    },
    {
      "cell_type": "markdown",
      "source": [
        "Dal seguente display vedo come nel dataframe in input sia presente una categoria in più (la sum_injurious), andrò subito a rimuoverla dal dataset in quanto inutile ai fini del progetto.\n",
        "\n",
        "Inoltre, sempre dal display, vedo solo valori uguali a 0 per le varie categorie. Mi faccio qui sotto uno snippet per capire quanti commenti con valore = 1 ho per categoria"
      ],
      "metadata": {
        "id": "zSA7foyNRxW4"
      }
    },
    {
      "cell_type": "code",
      "source": [
        "df = df.drop(columns=['sum_injurious'])\n",
        "LABELS = [\"toxic\", \"severe_toxic\", \"obscene\", \"threat\", \"insult\", \"identity_hate\"]\n",
        "\n",
        "# Conteggio per categoria\n",
        "label_counts = df[LABELS].sum().sort_values(ascending=False)\n",
        "print(\"Numero di commenti per categoria:\")\n",
        "print(label_counts)"
      ],
      "metadata": {
        "colab": {
          "base_uri": "https://localhost:8080/"
        },
        "id": "4EPyIBWdOQj-",
        "outputId": "ffe4fc0c-8c21-4160-d28c-ce63db23efa6"
      },
      "execution_count": null,
      "outputs": [
        {
          "output_type": "stream",
          "name": "stdout",
          "text": [
            "Numero di commenti per categoria:\n",
            "toxic            15294\n",
            "obscene           8449\n",
            "insult            7877\n",
            "severe_toxic      1595\n",
            "identity_hate     1405\n",
            "threat             478\n",
            "dtype: int64\n"
          ]
        }
      ]
    },
    {
      "cell_type": "code",
      "source": [
        "# mi printo alcuni esempi di commenti tossici\n",
        "pd.set_option('display.max_colwidth', None)\n",
        "df[df['toxic'] == 1].head(3)"
      ],
      "metadata": {
        "colab": {
          "base_uri": "https://localhost:8080/",
          "height": 178
        },
        "id": "aCnsJ_ttS_dS",
        "outputId": "d829632a-f0cb-4dc5-e749-e42a9fdbdcad"
      },
      "execution_count": null,
      "outputs": [
        {
          "output_type": "execute_result",
          "data": {
            "text/plain": [
              "                                                                                                                                                                                                                                                                                                                           comment_text  \\\n",
              "6                                                                                                                                                                                                                                                                                          COCKSUCKER BEFORE YOU PISS AROUND ON MY WORK   \n",
              "12  Hey... what is it..\\n@ | talk .\\nWhat is it... an exclusive group of some WP TALIBANS...who are good at destroying, self-appointed purist who GANG UP any one who asks them questions abt their ANTI-SOCIAL and DESTRUCTIVE (non)-contribution at WP?\\n\\nAsk Sityush to clean up his behavior than issue me nonsensical warnings...   \n",
              "16                                                                                                                                                                                                                                                                          Bye! \\n\\nDon't look, come or think of comming back! Tosser.   \n",
              "\n",
              "    toxic  severe_toxic  obscene  threat  insult  identity_hate  \n",
              "6       1             1        1       0       1              0  \n",
              "12      1             0        0       0       0              0  \n",
              "16      1             0        0       0       0              0  "
            ],
            "text/html": [
              "\n",
              "  <div id=\"df-c29fd3f1-8b4d-4327-a5db-a52a59bedeed\" class=\"colab-df-container\">\n",
              "    <div>\n",
              "<style scoped>\n",
              "    .dataframe tbody tr th:only-of-type {\n",
              "        vertical-align: middle;\n",
              "    }\n",
              "\n",
              "    .dataframe tbody tr th {\n",
              "        vertical-align: top;\n",
              "    }\n",
              "\n",
              "    .dataframe thead th {\n",
              "        text-align: right;\n",
              "    }\n",
              "</style>\n",
              "<table border=\"1\" class=\"dataframe\">\n",
              "  <thead>\n",
              "    <tr style=\"text-align: right;\">\n",
              "      <th></th>\n",
              "      <th>comment_text</th>\n",
              "      <th>toxic</th>\n",
              "      <th>severe_toxic</th>\n",
              "      <th>obscene</th>\n",
              "      <th>threat</th>\n",
              "      <th>insult</th>\n",
              "      <th>identity_hate</th>\n",
              "    </tr>\n",
              "  </thead>\n",
              "  <tbody>\n",
              "    <tr>\n",
              "      <th>6</th>\n",
              "      <td>COCKSUCKER BEFORE YOU PISS AROUND ON MY WORK</td>\n",
              "      <td>1</td>\n",
              "      <td>1</td>\n",
              "      <td>1</td>\n",
              "      <td>0</td>\n",
              "      <td>1</td>\n",
              "      <td>0</td>\n",
              "    </tr>\n",
              "    <tr>\n",
              "      <th>12</th>\n",
              "      <td>Hey... what is it..\\n@ | talk .\\nWhat is it... an exclusive group of some WP TALIBANS...who are good at destroying, self-appointed purist who GANG UP any one who asks them questions abt their ANTI-SOCIAL and DESTRUCTIVE (non)-contribution at WP?\\n\\nAsk Sityush to clean up his behavior than issue me nonsensical warnings...</td>\n",
              "      <td>1</td>\n",
              "      <td>0</td>\n",
              "      <td>0</td>\n",
              "      <td>0</td>\n",
              "      <td>0</td>\n",
              "      <td>0</td>\n",
              "    </tr>\n",
              "    <tr>\n",
              "      <th>16</th>\n",
              "      <td>Bye! \\n\\nDon't look, come or think of comming back! Tosser.</td>\n",
              "      <td>1</td>\n",
              "      <td>0</td>\n",
              "      <td>0</td>\n",
              "      <td>0</td>\n",
              "      <td>0</td>\n",
              "      <td>0</td>\n",
              "    </tr>\n",
              "  </tbody>\n",
              "</table>\n",
              "</div>\n",
              "    <div class=\"colab-df-buttons\">\n",
              "\n",
              "  <div class=\"colab-df-container\">\n",
              "    <button class=\"colab-df-convert\" onclick=\"convertToInteractive('df-c29fd3f1-8b4d-4327-a5db-a52a59bedeed')\"\n",
              "            title=\"Convert this dataframe to an interactive table.\"\n",
              "            style=\"display:none;\">\n",
              "\n",
              "  <svg xmlns=\"http://www.w3.org/2000/svg\" height=\"24px\" viewBox=\"0 -960 960 960\">\n",
              "    <path d=\"M120-120v-720h720v720H120Zm60-500h600v-160H180v160Zm220 220h160v-160H400v160Zm0 220h160v-160H400v160ZM180-400h160v-160H180v160Zm440 0h160v-160H620v160ZM180-180h160v-160H180v160Zm440 0h160v-160H620v160Z\"/>\n",
              "  </svg>\n",
              "    </button>\n",
              "\n",
              "  <style>\n",
              "    .colab-df-container {\n",
              "      display:flex;\n",
              "      gap: 12px;\n",
              "    }\n",
              "\n",
              "    .colab-df-convert {\n",
              "      background-color: #E8F0FE;\n",
              "      border: none;\n",
              "      border-radius: 50%;\n",
              "      cursor: pointer;\n",
              "      display: none;\n",
              "      fill: #1967D2;\n",
              "      height: 32px;\n",
              "      padding: 0 0 0 0;\n",
              "      width: 32px;\n",
              "    }\n",
              "\n",
              "    .colab-df-convert:hover {\n",
              "      background-color: #E2EBFA;\n",
              "      box-shadow: 0px 1px 2px rgba(60, 64, 67, 0.3), 0px 1px 3px 1px rgba(60, 64, 67, 0.15);\n",
              "      fill: #174EA6;\n",
              "    }\n",
              "\n",
              "    .colab-df-buttons div {\n",
              "      margin-bottom: 4px;\n",
              "    }\n",
              "\n",
              "    [theme=dark] .colab-df-convert {\n",
              "      background-color: #3B4455;\n",
              "      fill: #D2E3FC;\n",
              "    }\n",
              "\n",
              "    [theme=dark] .colab-df-convert:hover {\n",
              "      background-color: #434B5C;\n",
              "      box-shadow: 0px 1px 3px 1px rgba(0, 0, 0, 0.15);\n",
              "      filter: drop-shadow(0px 1px 2px rgba(0, 0, 0, 0.3));\n",
              "      fill: #FFFFFF;\n",
              "    }\n",
              "  </style>\n",
              "\n",
              "    <script>\n",
              "      const buttonEl =\n",
              "        document.querySelector('#df-c29fd3f1-8b4d-4327-a5db-a52a59bedeed button.colab-df-convert');\n",
              "      buttonEl.style.display =\n",
              "        google.colab.kernel.accessAllowed ? 'block' : 'none';\n",
              "\n",
              "      async function convertToInteractive(key) {\n",
              "        const element = document.querySelector('#df-c29fd3f1-8b4d-4327-a5db-a52a59bedeed');\n",
              "        const dataTable =\n",
              "          await google.colab.kernel.invokeFunction('convertToInteractive',\n",
              "                                                    [key], {});\n",
              "        if (!dataTable) return;\n",
              "\n",
              "        const docLinkHtml = 'Like what you see? Visit the ' +\n",
              "          '<a target=\"_blank\" href=https://colab.research.google.com/notebooks/data_table.ipynb>data table notebook</a>'\n",
              "          + ' to learn more about interactive tables.';\n",
              "        element.innerHTML = '';\n",
              "        dataTable['output_type'] = 'display_data';\n",
              "        await google.colab.output.renderOutput(dataTable, element);\n",
              "        const docLink = document.createElement('div');\n",
              "        docLink.innerHTML = docLinkHtml;\n",
              "        element.appendChild(docLink);\n",
              "      }\n",
              "    </script>\n",
              "  </div>\n",
              "\n",
              "\n",
              "    <div id=\"df-7d80688e-70e2-410d-b3bf-d9bbe65196f3\">\n",
              "      <button class=\"colab-df-quickchart\" onclick=\"quickchart('df-7d80688e-70e2-410d-b3bf-d9bbe65196f3')\"\n",
              "                title=\"Suggest charts\"\n",
              "                style=\"display:none;\">\n",
              "\n",
              "<svg xmlns=\"http://www.w3.org/2000/svg\" height=\"24px\"viewBox=\"0 0 24 24\"\n",
              "     width=\"24px\">\n",
              "    <g>\n",
              "        <path d=\"M19 3H5c-1.1 0-2 .9-2 2v14c0 1.1.9 2 2 2h14c1.1 0 2-.9 2-2V5c0-1.1-.9-2-2-2zM9 17H7v-7h2v7zm4 0h-2V7h2v10zm4 0h-2v-4h2v4z\"/>\n",
              "    </g>\n",
              "</svg>\n",
              "      </button>\n",
              "\n",
              "<style>\n",
              "  .colab-df-quickchart {\n",
              "      --bg-color: #E8F0FE;\n",
              "      --fill-color: #1967D2;\n",
              "      --hover-bg-color: #E2EBFA;\n",
              "      --hover-fill-color: #174EA6;\n",
              "      --disabled-fill-color: #AAA;\n",
              "      --disabled-bg-color: #DDD;\n",
              "  }\n",
              "\n",
              "  [theme=dark] .colab-df-quickchart {\n",
              "      --bg-color: #3B4455;\n",
              "      --fill-color: #D2E3FC;\n",
              "      --hover-bg-color: #434B5C;\n",
              "      --hover-fill-color: #FFFFFF;\n",
              "      --disabled-bg-color: #3B4455;\n",
              "      --disabled-fill-color: #666;\n",
              "  }\n",
              "\n",
              "  .colab-df-quickchart {\n",
              "    background-color: var(--bg-color);\n",
              "    border: none;\n",
              "    border-radius: 50%;\n",
              "    cursor: pointer;\n",
              "    display: none;\n",
              "    fill: var(--fill-color);\n",
              "    height: 32px;\n",
              "    padding: 0;\n",
              "    width: 32px;\n",
              "  }\n",
              "\n",
              "  .colab-df-quickchart:hover {\n",
              "    background-color: var(--hover-bg-color);\n",
              "    box-shadow: 0 1px 2px rgba(60, 64, 67, 0.3), 0 1px 3px 1px rgba(60, 64, 67, 0.15);\n",
              "    fill: var(--button-hover-fill-color);\n",
              "  }\n",
              "\n",
              "  .colab-df-quickchart-complete:disabled,\n",
              "  .colab-df-quickchart-complete:disabled:hover {\n",
              "    background-color: var(--disabled-bg-color);\n",
              "    fill: var(--disabled-fill-color);\n",
              "    box-shadow: none;\n",
              "  }\n",
              "\n",
              "  .colab-df-spinner {\n",
              "    border: 2px solid var(--fill-color);\n",
              "    border-color: transparent;\n",
              "    border-bottom-color: var(--fill-color);\n",
              "    animation:\n",
              "      spin 1s steps(1) infinite;\n",
              "  }\n",
              "\n",
              "  @keyframes spin {\n",
              "    0% {\n",
              "      border-color: transparent;\n",
              "      border-bottom-color: var(--fill-color);\n",
              "      border-left-color: var(--fill-color);\n",
              "    }\n",
              "    20% {\n",
              "      border-color: transparent;\n",
              "      border-left-color: var(--fill-color);\n",
              "      border-top-color: var(--fill-color);\n",
              "    }\n",
              "    30% {\n",
              "      border-color: transparent;\n",
              "      border-left-color: var(--fill-color);\n",
              "      border-top-color: var(--fill-color);\n",
              "      border-right-color: var(--fill-color);\n",
              "    }\n",
              "    40% {\n",
              "      border-color: transparent;\n",
              "      border-right-color: var(--fill-color);\n",
              "      border-top-color: var(--fill-color);\n",
              "    }\n",
              "    60% {\n",
              "      border-color: transparent;\n",
              "      border-right-color: var(--fill-color);\n",
              "    }\n",
              "    80% {\n",
              "      border-color: transparent;\n",
              "      border-right-color: var(--fill-color);\n",
              "      border-bottom-color: var(--fill-color);\n",
              "    }\n",
              "    90% {\n",
              "      border-color: transparent;\n",
              "      border-bottom-color: var(--fill-color);\n",
              "    }\n",
              "  }\n",
              "</style>\n",
              "\n",
              "      <script>\n",
              "        async function quickchart(key) {\n",
              "          const quickchartButtonEl =\n",
              "            document.querySelector('#' + key + ' button');\n",
              "          quickchartButtonEl.disabled = true;  // To prevent multiple clicks.\n",
              "          quickchartButtonEl.classList.add('colab-df-spinner');\n",
              "          try {\n",
              "            const charts = await google.colab.kernel.invokeFunction(\n",
              "                'suggestCharts', [key], {});\n",
              "          } catch (error) {\n",
              "            console.error('Error during call to suggestCharts:', error);\n",
              "          }\n",
              "          quickchartButtonEl.classList.remove('colab-df-spinner');\n",
              "          quickchartButtonEl.classList.add('colab-df-quickchart-complete');\n",
              "        }\n",
              "        (() => {\n",
              "          let quickchartButtonEl =\n",
              "            document.querySelector('#df-7d80688e-70e2-410d-b3bf-d9bbe65196f3 button');\n",
              "          quickchartButtonEl.style.display =\n",
              "            google.colab.kernel.accessAllowed ? 'block' : 'none';\n",
              "        })();\n",
              "      </script>\n",
              "    </div>\n",
              "\n",
              "    </div>\n",
              "  </div>\n"
            ],
            "application/vnd.google.colaboratory.intrinsic+json": {
              "type": "dataframe",
              "summary": "{\n  \"name\": \"df[df['toxic'] == 1]\",\n  \"rows\": 3,\n  \"fields\": [\n    {\n      \"column\": \"comment_text\",\n      \"properties\": {\n        \"dtype\": \"string\",\n        \"num_unique_values\": 3,\n        \"samples\": [\n          \"COCKSUCKER BEFORE YOU PISS AROUND ON MY WORK\",\n          \"Hey... what is it..\\n@ | talk .\\nWhat is it... an exclusive group of some WP TALIBANS...who are good at destroying, self-appointed purist who GANG UP any one who asks them questions abt their ANTI-SOCIAL and DESTRUCTIVE (non)-contribution at WP?\\n\\nAsk Sityush to clean up his behavior than issue me nonsensical warnings...\",\n          \"Bye! \\n\\nDon't look, come or think of comming back! Tosser.\"\n        ],\n        \"semantic_type\": \"\",\n        \"description\": \"\"\n      }\n    },\n    {\n      \"column\": \"toxic\",\n      \"properties\": {\n        \"dtype\": \"number\",\n        \"std\": 0,\n        \"min\": 1,\n        \"max\": 1,\n        \"num_unique_values\": 1,\n        \"samples\": [\n          1\n        ],\n        \"semantic_type\": \"\",\n        \"description\": \"\"\n      }\n    },\n    {\n      \"column\": \"severe_toxic\",\n      \"properties\": {\n        \"dtype\": \"number\",\n        \"std\": 0,\n        \"min\": 0,\n        \"max\": 1,\n        \"num_unique_values\": 2,\n        \"samples\": [\n          0\n        ],\n        \"semantic_type\": \"\",\n        \"description\": \"\"\n      }\n    },\n    {\n      \"column\": \"obscene\",\n      \"properties\": {\n        \"dtype\": \"number\",\n        \"std\": 0,\n        \"min\": 0,\n        \"max\": 1,\n        \"num_unique_values\": 2,\n        \"samples\": [\n          0\n        ],\n        \"semantic_type\": \"\",\n        \"description\": \"\"\n      }\n    },\n    {\n      \"column\": \"threat\",\n      \"properties\": {\n        \"dtype\": \"number\",\n        \"std\": 0,\n        \"min\": 0,\n        \"max\": 0,\n        \"num_unique_values\": 1,\n        \"samples\": [\n          0\n        ],\n        \"semantic_type\": \"\",\n        \"description\": \"\"\n      }\n    },\n    {\n      \"column\": \"insult\",\n      \"properties\": {\n        \"dtype\": \"number\",\n        \"std\": 0,\n        \"min\": 0,\n        \"max\": 1,\n        \"num_unique_values\": 2,\n        \"samples\": [\n          0\n        ],\n        \"semantic_type\": \"\",\n        \"description\": \"\"\n      }\n    },\n    {\n      \"column\": \"identity_hate\",\n      \"properties\": {\n        \"dtype\": \"number\",\n        \"std\": 0,\n        \"min\": 0,\n        \"max\": 0,\n        \"num_unique_values\": 1,\n        \"samples\": [\n          0\n        ],\n        \"semantic_type\": \"\",\n        \"description\": \"\"\n      }\n    }\n  ]\n}"
            }
          },
          "metadata": {},
          "execution_count": 5
        }
      ]
    },
    {
      "cell_type": "markdown",
      "source": [
        "Per ogni tipologia di categoria ho chiaramento un dataset sbilanciato. C'è un numero molto maggiore di commenti positivi/neutri, rispetto a quelli tossici. (questo fatto andrà preso in considerazione durante il processo di addestramento)\n",
        "\n",
        "Ora costruisco questa funzione che mi permette di rimuovere tutti i caratteri speciali dai commenti in input e mettere tutto in minuscolo."
      ],
      "metadata": {
        "id": "2U0IBV48StBD"
      }
    },
    {
      "cell_type": "code",
      "source": [
        "def clean_text(text: str) -> str:\n",
        "    text = str(text).lower()\n",
        "    text = re.sub(r\"https?:\\/\\/\\S+\", \"\", text)\n",
        "    text = re.sub(r\"\\n\", \" \", text)\n",
        "    text = re.sub(r\"[^a-z\\s]\", \"\", text)\n",
        "    text = re.sub(r\" +\", \" \", text).strip()\n",
        "    return text"
      ],
      "metadata": {
        "id": "Ip-cf1ayOQfZ"
      },
      "execution_count": null,
      "outputs": []
    },
    {
      "cell_type": "code",
      "source": [
        "df[\"comment_text\"] = df[\"comment_text\"].apply(clean_text)"
      ],
      "metadata": {
        "id": "p-8bKdGNOQc5"
      },
      "execution_count": null,
      "outputs": []
    },
    {
      "cell_type": "markdown",
      "source": [
        "#### TOKENIZZAZIONE E PADDING####\n",
        "\n",
        "Procedo con alcune analisi preliminari per capire quanto potrei mettere come valori per la size del vocabolario e la lunghezza massima dei commenti"
      ],
      "metadata": {
        "id": "-Opg3GuNVvqy"
      }
    },
    {
      "cell_type": "code",
      "source": [
        "test_tokenizer = Tokenizer()\n",
        "test_tokenizer.fit_on_texts(df[\"comment_text\"].values)\n",
        "\n",
        "\n",
        "actual_vocab_size = len(test_tokenizer.word_index)+1\n",
        "sentence_comments = test_tokenizer.texts_to_sequences(df[\"comment_text\"].values)\n",
        "maxlen_comment = len(max(sentence_comments,key=len))"
      ],
      "metadata": {
        "id": "p_q6uP_DWjC_"
      },
      "execution_count": null,
      "outputs": []
    },
    {
      "cell_type": "code",
      "source": [
        "print(f\"Lunghezza vocabolario: {actual_vocab_size}\")\n",
        "print(f\"Numero massimo di token in un commento: {maxlen_comment}\")"
      ],
      "metadata": {
        "colab": {
          "base_uri": "https://localhost:8080/"
        },
        "id": "V0DLTDwVZ2eY",
        "outputId": "7cd4ebed-81c0-41e2-e36b-522010432411"
      },
      "execution_count": null,
      "outputs": [
        {
          "output_type": "stream",
          "name": "stdout",
          "text": [
            "Lunghezza vocabolario: 218340\n",
            "Numero massimo di token in un commento: 1403\n"
          ]
        }
      ]
    },
    {
      "cell_type": "code",
      "source": [
        "seq_lengths = [len(seq) for seq in sentence_comments]\n",
        "\n",
        "# Indice del commento più lungo\n",
        "idx_longest = int(np.argmax(seq_lengths))\n",
        "\n",
        "# Stampa integrale del testo grezzo\n",
        "print(\"\\n--- COMMENTO PIÙ LUNGO ---\\n\")\n",
        "print(df.loc[idx_longest, 'comment_text'])"
      ],
      "metadata": {
        "colab": {
          "base_uri": "https://localhost:8080/"
        },
        "id": "m7dgUk8ea8ih",
        "outputId": "c900c942-c47c-4758-8764-a1ae58c30813"
      },
      "execution_count": null,
      "outputs": [
        {
          "output_type": "stream",
          "name": "stdout",
          "text": [
            "\n",
            "--- COMMENTO PIÙ LUNGO ---\n",
            "\n",
            "do go fuck off bastard do yyou have a life go fuck off bastard and yank your cock through your ass i hate you and hope you go away forever lame is you fuck your mom die die die and all that crap this is for mahy mahonerz ass i ass i ass i ass i ass i ass i ass i ass i ass i ass i ass i ass i ass i ass i ass i ass i ass i ass i ass i ass i ass i ass i ass i ass i ass i ass i ass i ass i ass i ass i ass i ass i ass i ass i ass i ass i ass i ass i ass i ass i ass i ass i ass i ass i ass i ass i ass i ass i ass i ass i ass i ass i ass i ass i ass i ass i ass i ass i ass i ass i ass i ass i ass i ass i ass i ass i ass i ass i ass i ass i ass i ass i ass i ass i ass i ass i ass i ass i ass i ass i ass i ass i ass i ass i ass i ass i ass i ass i ass i ass i ass i ass i ass i ass i ass i ass i ass i ass i ass i ass i ass i ass i ass i ass i ass i ass i ass i ass i ass i ass i ass i ass i ass i ass i ass i ass i ass i ass i ass i ass i ass i ass i ass i ass i ass i ass i ass i ass i ass i ass i ass i ass i ass i ass i ass i ass i ass i ass i ass i ass i ass i ass i ass i ass i ass i ass i ass i ass i ass i ass i ass i ass i ass i ass i ass i ass i ass i ass i ass i ass i ass i ass i ass i ass i ass i ass i ass i ass i ass i ass i ass i ass i ass i ass i ass i ass i ass i ass i ass i ass i ass i ass i ass i ass i ass i ass i ass i ass i ass i ass i ass i ass i ass i ass i ass i ass i ass i ass i ass i ass i ass i ass i ass i ass i ass i ass i ass i ass i ass i ass i ass i ass i ass i ass i ass i ass i ass i ass i ass i ass i ass i ass i ass i ass i ass i ass i ass i ass i ass i ass i ass i ass i ass i ass i ass i ass i ass i ass i ass i ass i ass i ass i ass i ass i ass i ass i ass i ass i ass i ass i ass i ass i ass i ass i ass i ass i ass i ass i ass i ass i ass i ass i ass i ass i ass i ass i ass i ass i ass i ass i ass i ass i ass i ass i ass i ass i ass i ass i ass i ass i ass i ass i ass i ass i ass i ass i ass i ass i ass i ass i ass i ass i ass i ass i ass i ass i ass i ass i ass i ass i ass i ass i ass i ass i ass i ass i ass i ass i ass i ass i ass i ass i ass i ass i ass i ass i ass i ass i ass i ass i ass i ass i ass i ass i ass i ass i ass i ass i ass i ass i ass i ass i ass i ass i ass i ass i ass i ass i ass i ass i ass i ass i ass i ass i ass i ass i ass i ass i ass i ass i ass i ass i ass i ass i ass i ass i ass i ass i ass i ass i ass i ass i ass i ass i ass i ass i ass i ass i ass i ass i ass i ass i ass i ass i ass i ass i ass i ass i ass i ass i ass i ass i ass i ass i ass i ass i ass i ass i ass i ass i ass i ass i ass i ass i ass i ass i ass i ass i ass i ass i ass i ass i ass i ass i ass i ass i ass i ass i ass i ass i ass i ass i ass i ass i ass i ass i ass i ass i ass i ass i ass i ass i ass i ass i ass i ass i ass i ass i ass i ass i ass i ass i ass i ass i ass i ass i ass i ass i ass i ass i ass i ass i ass i ass i ass i ass i ass i ass i ass i ass i ass i ass i ass i ass i ass i ass i ass i ass i ass i ass i ass i ass i ass i ass i ass i ass i ass i ass i ass i ass i ass i ass i ass i ass i ass i ass i ass i ass i ass i ass i ass i ass i ass i ass i ass i ass i ass i ass i ass i ass i ass i ass i ass i ass i ass i ass i ass i ass i ass i ass i ass i ass i ass i ass i ass i ass i ass i ass i ass i ass i ass i ass i ass i ass i ass i ass i ass i ass i ass i ass i ass i ass i ass i ass i ass i ass i ass i ass i ass i ass i ass i ass i ass i ass i ass i ass i ass i ass i ass i ass i ass i ass i ass i ass i ass i ass i ass i ass i ass i ass i ass i ass i ass i ass i ass i ass i ass i ass i ass i ass i ass i ass i ass i ass i ass i ass i ass i ass i ass i ass i ass i ass i ass i ass i ass i ass i ass i ass i ass i ass i ass i ass i ass i ass i ass i ass i ass i ass i ass i ass i ass i ass i ass i ass i ass i ass i ass i ass i ass i ass i ass i ass i ass i ass i ass i ass i ass i ass i ass i ass i ass i ass i ass i ass i ass i ass i ass i ass i ass i ass i ass i ass i ass i ass i ass i ass i ass i ass i ass i ass i ass i ass i ass i ass i ass i ass i ass i ass i ass i ass i ass i ass i ass i ass i ass i ass i ass i ass i ass i ass i ass i ass i ass i ass i ass i ass i ass i ass i ass i ass i ass i ass i ass i ass i ass i ass i ass i ass i ass i ass i ass i ass i ass i ass i ass i ass i ass i ass\n"
          ]
        }
      ]
    },
    {
      "cell_type": "markdown",
      "source": [
        "Effettivamente sembra che ci sia un commento lungo tutte queste parole.\n",
        "\n",
        "Non so se ci sia stato qualche errore che ha fatto si che \"i ass\" si ripeta così tante volte, ma potrebbe anche essere che il nostro hater sia stato alquanto incazzato e lo abbia fatto di proposito. Perciò considererò questo commento come reale."
      ],
      "metadata": {
        "id": "9bv0kOvWbXKI"
      }
    },
    {
      "cell_type": "markdown",
      "source": [
        "Ora mi printo qualche percentile che mi da informazioni sulla distribuzione della lunghezza dei commenti."
      ],
      "metadata": {
        "id": "CtgVsx1t4ioA"
      }
    },
    {
      "cell_type": "code",
      "source": [
        "seq_len = np.array([len(s) for s in test_tokenizer.texts_to_sequences(df[\"comment_text\"])])\n",
        "for p in (90, 95, 99):\n",
        "    print(f\"{p}° percentile: {np.percentile(seq_len, p):.0f} token\")"
      ],
      "metadata": {
        "colab": {
          "base_uri": "https://localhost:8080/"
        },
        "id": "pjLJGrrg4OhK",
        "outputId": "1d3f493d-ff2b-480d-c3f4-2af9855bcc58"
      },
      "execution_count": null,
      "outputs": [
        {
          "output_type": "stream",
          "name": "stdout",
          "text": [
            "90° percentile: 149 token\n",
            "95° percentile: 223 token\n",
            "99° percentile: 555 token\n"
          ]
        }
      ]
    },
    {
      "cell_type": "markdown",
      "source": [
        "La lunghezza del commento più lungo (1403 token) chiaramente sarebbe una scelta troppo onerosa dal punto di vista computazionale e di memoria occupata, anche considerando che la parte informativa del commento è molto più corta. In generale poi vedo che il 95% dei commenti ha lunghezza inferiore e 223 token.\n",
        "Con buona approssimazione direi che possiamo considerare una lunghezza massima per i commenti di 200 token (i più lunghi saranno troncati, ma mi sembra un buon compromesso)"
      ],
      "metadata": {
        "id": "5D_5c8Xe4pD0"
      }
    },
    {
      "cell_type": "markdown",
      "source": [
        "Per quanto riguarda il vocabolario, abbiamo una grandezza un po' eccessiva. Probabilmente, essendo commenti scritti un po' in fretta, ci potrebbero essere molti token che in realtà sono errori di battitura (o dei neologismi che per il nostro modello non avrebbero molto significato) e hanno un numero di occorrenze estremamente basso.\n",
        "\n",
        "Provo a vedere che numero di token sarebbe necessario avere nel vocabolario per avere comunque il 99% dei token nei vari commenti rappresentati, così da filtrare effettivamente solo quelli con pochissima occorrenze."
      ],
      "metadata": {
        "id": "ptTvNZSlcfSH"
      }
    },
    {
      "cell_type": "code",
      "source": [
        "# Ricaviamo le frequenze dal tokenizer già addestrato\n",
        "word_counts = test_tokenizer.word_counts\n",
        "\n",
        "# In DataFrame, ordinato per frequenza decrescente\n",
        "freq_df = (pd.DataFrame(word_counts.items(), columns=[\"token\", \"count\"])\n",
        "             .sort_values(\"count\", ascending=False)\n",
        "             .reset_index(drop=True))\n",
        "\n",
        "# Calcoliamo la copertura cumulativa\n",
        "freq_df[\"cum_count\"] = freq_df[\"count\"].cumsum()\n",
        "total_tokens = freq_df[\"count\"].sum()\n",
        "freq_df[\"cum_perc\"] = 100 * freq_df[\"cum_count\"] / total_tokens\n",
        "\n",
        "print(freq_df)\n",
        "\n",
        "#  Troviamo la cut-off: prima riga con copertura ≥ 99 %\n",
        "cutoff_idx = freq_df[freq_df[\"cum_perc\"] >= 99].index[0]\n",
        "vocab_99 = cutoff_idx + 1\n",
        "\n",
        "print(f\"Token totali nel corpus:        {total_tokens:,}\")\n",
        "print(f\"Vocabolario per coprire il 99%: {vocab_99:,} parole\")\n",
        "\n",
        "# Grafico copertura cumulativa\n",
        "plt.figure(figsize=(7,4))\n",
        "plt.plot(freq_df[\"cum_perc\"].values, lw=2)\n",
        "plt.axhline(99, color=\"gray\", linestyle=\"--\")\n",
        "plt.axvline(cutoff_idx, color=\"gray\", linestyle=\"--\")\n",
        "plt.xlabel(\"Dimensione del vocabolario\")\n",
        "plt.ylabel(\"Copertura cumulativa (%)\")\n",
        "plt.title(\"Copertura corpus vs dimensione vocabolario\")\n",
        "plt.xscale(\"log\")          # scala log\n",
        "plt.grid(True, which=\"both\", ls=\":\")\n",
        "plt.tight_layout()\n",
        "plt.show()\n"
      ],
      "metadata": {
        "colab": {
          "base_uri": "https://localhost:8080/",
          "height": 685
        },
        "id": "1qt6NmYodVoj",
        "outputId": "646cbce2-9a54-49c0-e212-e45008fcdac8"
      },
      "execution_count": null,
      "outputs": [
        {
          "output_type": "stream",
          "name": "stdout",
          "text": [
            "                 token   count  cum_count    cum_perc\n",
            "0                  the  495454     495454    4.746483\n",
            "1                   to  296838     792292    7.590211\n",
            "2                   of  224021    1016313    9.736348\n",
            "3                  and  222362    1238675   11.866591\n",
            "4                    a  214905    1453580   13.925396\n",
            "...                ...     ...        ...         ...\n",
            "218334       leafnodes       1   10438335   99.999962\n",
            "218335     nearendless       1   10438336   99.999971\n",
            "218336       dynastyso       1   10438337   99.999981\n",
            "218337     hanumakonda       1   10438338   99.999990\n",
            "218338  notnecessarily       1   10438339  100.000000\n",
            "\n",
            "[218339 rows x 4 columns]\n",
            "Token totali nel corpus:        10,438,339\n",
            "Vocabolario per coprire il 99%: 113,956 parole\n"
          ]
        },
        {
          "output_type": "display_data",
          "data": {
            "text/plain": [
              "<Figure size 700x400 with 1 Axes>"
            ],
            "image/png": "[encoded data removed]"
          },
          "metadata": {}
        }
      ]
    },
    {
      "cell_type": "markdown",
      "source": [
        "Per coprire il 99% dei token presenti nel corpus dovremmo comunque avere un dizionario estremamente grosso (più di 100k), provo a scendere con la probabilità al 97%"
      ],
      "metadata": {
        "id": "DqgAhGCEetof"
      }
    },
    {
      "cell_type": "code",
      "source": [
        "#  Troviamo la cut-off: prima riga con copertura ≥ 97 %\n",
        "cutoff_idx = freq_df[freq_df[\"cum_perc\"] >= 97].index[0]\n",
        "vocab_97 = cutoff_idx + 1\n",
        "\n",
        "print(f\"Token totali nel corpus:        {total_tokens:,}\")\n",
        "print(f\"Vocabolario per coprire il 97%: {vocab_97:,} parole\")"
      ],
      "metadata": {
        "colab": {
          "base_uri": "https://localhost:8080/"
        },
        "id": "djPB-1qAed5o",
        "outputId": "15e8b626-f591-4285-b0c8-49b4ccb8b031"
      },
      "execution_count": null,
      "outputs": [
        {
          "output_type": "stream",
          "name": "stdout",
          "text": [
            "Token totali nel corpus:        10,438,339\n",
            "Vocabolario per coprire il 97%: 31,857 parole\n"
          ]
        }
      ]
    },
    {
      "cell_type": "markdown",
      "source": [
        "Direi che un vocabolario con 30000 token mi sembra un buon compromesso fra velocità di addestramento, capacità di catturare una buona parte delle sfumature lessicali, e pone una limitazione al rischio di overfitting dato dalla presenza di token rari"
      ],
      "metadata": {
        "id": "Tis_QEgff5Go"
      }
    },
    {
      "cell_type": "code",
      "source": [
        "VOCAB_SIZE = 30000\n",
        "MAX_LEN = 200\n",
        "\n",
        "tokenizer = Tokenizer(num_words=VOCAB_SIZE,oov_token=\"<OOV>\") # uso oov (out of vocabulary) come placeholder per i token non presenti in vocabolario\n",
        "tokenizer.fit_on_texts(df[\"comment_text\"].values)\n",
        "\n",
        "sequences = tokenizer.texts_to_sequences(df[\"comment_text\"].values)\n",
        "X = pad_sequences(sequences, maxlen=MAX_LEN, padding=\"post\", truncating=\"post\")\n",
        "\n",
        "y = df[LABELS].values.astype(np.float32)"
      ],
      "metadata": {
        "id": "qxrWGMPAOQYt"
      },
      "execution_count": null,
      "outputs": []
    },
    {
      "cell_type": "code",
      "source": [
        "X.shape, y.shape"
      ],
      "metadata": {
        "colab": {
          "base_uri": "https://localhost:8080/"
        },
        "id": "ir3FAqfe6pSc",
        "outputId": "74feffa5-84a9-465a-f712-92eb62f42ac1"
      },
      "execution_count": null,
      "outputs": [
        {
          "output_type": "execute_result",
          "data": {
            "text/plain": [
              "((159571, 200), (159571, 6))"
            ]
          },
          "metadata": {},
          "execution_count": 13
        }
      ]
    },
    {
      "cell_type": "code",
      "source": [
        "X[6] , y[6]"
      ],
      "metadata": {
        "colab": {
          "base_uri": "https://localhost:8080/"
        },
        "id": "mUv_P4qD6MM_",
        "outputId": "1bb587a3-cd15-4fb9-e598-1a84a79a2112"
      },
      "execution_count": null,
      "outputs": [
        {
          "output_type": "execute_result",
          "data": {
            "text/plain": [
              "(array([1746,  143,    7, 3283,  302,   16,   29,  140,    0,    0,    0,\n",
              "           0,    0,    0,    0,    0,    0,    0,    0,    0,    0,    0,\n",
              "           0,    0,    0,    0,    0,    0,    0,    0,    0,    0,    0,\n",
              "           0,    0,    0,    0,    0,    0,    0,    0,    0,    0,    0,\n",
              "           0,    0,    0,    0,    0,    0,    0,    0,    0,    0,    0,\n",
              "           0,    0,    0,    0,    0,    0,    0,    0,    0,    0,    0,\n",
              "           0,    0,    0,    0,    0,    0,    0,    0,    0,    0,    0,\n",
              "           0,    0,    0,    0,    0,    0,    0,    0,    0,    0,    0,\n",
              "           0,    0,    0,    0,    0,    0,    0,    0,    0,    0,    0,\n",
              "           0,    0,    0,    0,    0,    0,    0,    0,    0,    0,    0,\n",
              "           0,    0,    0,    0,    0,    0,    0,    0,    0,    0,    0,\n",
              "           0,    0,    0,    0,    0,    0,    0,    0,    0,    0,    0,\n",
              "           0,    0,    0,    0,    0,    0,    0,    0,    0,    0,    0,\n",
              "           0,    0,    0,    0,    0,    0,    0,    0,    0,    0,    0,\n",
              "           0,    0,    0,    0,    0,    0,    0,    0,    0,    0,    0,\n",
              "           0,    0,    0,    0,    0,    0,    0,    0,    0,    0,    0,\n",
              "           0,    0,    0,    0,    0,    0,    0,    0,    0,    0,    0,\n",
              "           0,    0,    0,    0,    0,    0,    0,    0,    0,    0,    0,\n",
              "           0,    0], dtype=int32),\n",
              " array([1., 1., 1., 0., 1., 0.], dtype=float32))"
            ]
          },
          "metadata": {},
          "execution_count": 14
        }
      ]
    },
    {
      "cell_type": "markdown",
      "source": [
        "### <font color=\"yellow\">***Sviluppo del modello***</font>"
      ],
      "metadata": {
        "id": "c9foGt8067Qb"
      }
    },
    {
      "cell_type": "markdown",
      "source": [
        "Train Test val split"
      ],
      "metadata": {
        "id": "vmDvBCJr8Jxd"
      }
    },
    {
      "cell_type": "code",
      "source": [
        "X_train, X_temp, y_train, y_temp = train_test_split(\n",
        "    X, y, test_size=0.30, random_state=SEED, shuffle=True)\n",
        "\n",
        "X_val, X_test, y_val, y_test = train_test_split(\n",
        "    X_temp, y_temp, test_size=0.50, random_state=SEED, shuffle=True)\n",
        "\n",
        "print(f\"Train: {len(X_train)} | Val: {len(X_val)} | Test: {len(X_test)}\")"
      ],
      "metadata": {
        "colab": {
          "base_uri": "https://localhost:8080/"
        },
        "id": "qVXhi0Zj7wVr",
        "outputId": "e99f0e51-a383-43d3-f9b1-aafa11dd2c9b"
      },
      "execution_count": null,
      "outputs": [
        {
          "output_type": "stream",
          "name": "stdout",
          "text": [
            "Train: 111699 | Val: 23936 | Test: 23936\n"
          ]
        }
      ]
    },
    {
      "cell_type": "markdown",
      "source": [
        "Gestione sblinciamento delle classi\n",
        "\n",
        "Per il momento provo semplicemente a calcolare i pesi delle classi e passarli durante il fit del modello, così che i pesi della rete neurale varino più rapidamente nel caso di esempi poco rappresentati all'interno del dataset. Se necessario proverò anche con altri metodi più sofisticati"
      ],
      "metadata": {
        "id": "btFazx998LfW"
      }
    },
    {
      "cell_type": "code",
      "source": [
        "# Sbilanciamento classi\n",
        "positive_counts = y_train.sum(axis=0)\n",
        "negative_counts = len(y_train) - positive_counts\n",
        "class_weights = {\n",
        "    i: negative_counts[i] / (positive_counts[i])\n",
        "    for i in range(len(LABELS))\n",
        "}\n",
        "print(\"Class weights (è presente un record appartenente a quella classe ogni tot occorrenze)\", class_weights)\n",
        "## ricordo l'ordine delle LABELS = [\"toxic\", \"severe_toxic\", \"obscene\", \"threat\", \"insult\", \"identity_hate\"]"
      ],
      "metadata": {
        "colab": {
          "base_uri": "https://localhost:8080/"
        },
        "id": "mfk1npm7W977",
        "outputId": "de2ec345-d99c-41b1-cce0-03b0eca80166"
      },
      "execution_count": null,
      "outputs": [
        {
          "output_type": "stream",
          "name": "stdout",
          "text": [
            "Class weights (è presente un record appartenente a quella classe ogni tot occorrenze) {0: np.float32(9.4274645), 1: np.float32(99.72047), 2: np.float32(17.954523), 3: np.float32(325.60526), 4: np.float32(19.353317), 5: np.float32(113.79856)}\n"
          ]
        }
      ]
    },
    {
      "cell_type": "markdown",
      "source": [
        "Come avevamo già visto la classe toxic è quella più rappresentata, mentre quella threat quella meno rappresentata"
      ],
      "metadata": {
        "id": "3YAYUklI9Mmv"
      }
    },
    {
      "cell_type": "markdown",
      "source": [
        "CREAZIONE MODELLO\n",
        "\n",
        "Per quanto riguarda la struttura della rete neurale opto per un modello abbastanza facile.\n",
        "1. Inizialmente ho il solito strato di embedding\n",
        "2. Applico un layer LSTM bidirezionale\n",
        "3. Applico un dropuot spegnendo causualmente dei neurori per minimizzare la possibilità di overfitting\n",
        "4. Strato Denso per \"mescolare\" le varie features in uscita dal leyer ricorrente (applico una relu come funzione di attivazione)\n",
        "5. Altro dropout\n",
        "6. Strato Denso finale che darà l'output (attivazione sigmoide per avere risultato binario per ogni categoria)"
      ],
      "metadata": {
        "id": "qpnqnBUh_bPH"
      }
    },
    {
      "cell_type": "code",
      "source": [
        "EMB_DIM = 128\n",
        "RNN_UNITS = 64\n",
        "\n",
        "model = Sequential([\n",
        "    Embedding(\n",
        "        input_dim=VOCAB_SIZE + 1,\n",
        "        output_dim=EMB_DIM,\n",
        "        input_shape=(MAX_LEN,),\n",
        "        mask_zero=False\n",
        "    ),\n",
        "    Bidirectional(LSTM(RNN_UNITS, return_sequences=False)),\n",
        "    Dropout(0.3),\n",
        "    Dense(64, activation=\"relu\"),\n",
        "    Dropout(0.2),\n",
        "    Dense(len(LABELS), activation=\"sigmoid\")\n",
        "])\n",
        "\n",
        "model.summary()"
      ],
      "metadata": {
        "colab": {
          "base_uri": "https://localhost:8080/",
          "height": 323
        },
        "id": "YIVq1gDPW95y",
        "outputId": "64e7fdce-1ee2-4706-f632-735412e6a2e0"
      },
      "execution_count": null,
      "outputs": [
        {
          "output_type": "display_data",
          "data": {
            "text/plain": [
              "\u001b[1mModel: \"sequential\"\u001b[0m\n"
            ],
            "text/html": [
              "<pre style=\"white-space:pre;overflow-x:auto;line-height:normal;font-family:Menlo,'DejaVu Sans Mono',consolas,'Courier New',monospace\"><span style=\"font-weight: bold\">Model: \"sequential\"</span>\n",
              "</pre>\n"
            ]
          },
          "metadata": {}
        },
        {
          "output_type": "display_data",
          "data": {
            "text/plain": [
              "┏━━━━━━━━━━━━━━━━━━━━━━━━━━━━━━━━━┳━━━━━━━━━━━━━━━━━━━━━━━━┳━━━━━━━━━━━━━━━┓\n",
              "┃\u001b[1m \u001b[0m\u001b[1mLayer (type)                   \u001b[0m\u001b[1m \u001b[0m┃\u001b[1m \u001b[0m\u001b[1mOutput Shape          \u001b[0m\u001b[1m \u001b[0m┃\u001b[1m \u001b[0m\u001b[1m      Param #\u001b[0m\u001b[1m \u001b[0m┃\n",
              "┡━━━━━━━━━━━━━━━━━━━━━━━━━━━━━━━━━╇━━━━━━━━━━━━━━━━━━━━━━━━╇━━━━━━━━━━━━━━━┩\n",
              "│ embedding (\u001b[38;5;33mEmbedding\u001b[0m)           │ (\u001b[38;5;45mNone\u001b[0m, \u001b[38;5;34m200\u001b[0m, \u001b[38;5;34m128\u001b[0m)       │     \u001b[38;5;34m3,840,128\u001b[0m │\n",
              "├─────────────────────────────────┼────────────────────────┼───────────────┤\n",
              "│ bidirectional (\u001b[38;5;33mBidirectional\u001b[0m)   │ (\u001b[38;5;45mNone\u001b[0m, \u001b[38;5;34m128\u001b[0m)            │        \u001b[38;5;34m98,816\u001b[0m │\n",
              "├─────────────────────────────────┼────────────────────────┼───────────────┤\n",
              "│ dropout (\u001b[38;5;33mDropout\u001b[0m)               │ (\u001b[38;5;45mNone\u001b[0m, \u001b[38;5;34m128\u001b[0m)            │             \u001b[38;5;34m0\u001b[0m │\n",
              "├─────────────────────────────────┼────────────────────────┼───────────────┤\n",
              "│ dense (\u001b[38;5;33mDense\u001b[0m)                   │ (\u001b[38;5;45mNone\u001b[0m, \u001b[38;5;34m64\u001b[0m)             │         \u001b[38;5;34m8,256\u001b[0m │\n",
              "├─────────────────────────────────┼────────────────────────┼───────────────┤\n",
              "│ dropout_1 (\u001b[38;5;33mDropout\u001b[0m)             │ (\u001b[38;5;45mNone\u001b[0m, \u001b[38;5;34m64\u001b[0m)             │             \u001b[38;5;34m0\u001b[0m │\n",
              "├─────────────────────────────────┼────────────────────────┼───────────────┤\n",
              "│ dense_1 (\u001b[38;5;33mDense\u001b[0m)                 │ (\u001b[38;5;45mNone\u001b[0m, \u001b[38;5;34m6\u001b[0m)              │           \u001b[38;5;34m390\u001b[0m │\n",
              "└─────────────────────────────────┴────────────────────────┴───────────────┘\n"
            ],
            "text/html": [
              "<pre style=\"white-space:pre;overflow-x:auto;line-height:normal;font-family:Menlo,'DejaVu Sans Mono',consolas,'Courier New',monospace\">┏━━━━━━━━━━━━━━━━━━━━━━━━━━━━━━━━━┳━━━━━━━━━━━━━━━━━━━━━━━━┳━━━━━━━━━━━━━━━┓\n",
              "┃<span style=\"font-weight: bold\"> Layer (type)                    </span>┃<span style=\"font-weight: bold\"> Output Shape           </span>┃<span style=\"font-weight: bold\">       Param # </span>┃\n",
              "┡━━━━━━━━━━━━━━━━━━━━━━━━━━━━━━━━━╇━━━━━━━━━━━━━━━━━━━━━━━━╇━━━━━━━━━━━━━━━┩\n",
              "│ embedding (<span style=\"color: #0087ff; text-decoration-color: #0087ff\">Embedding</span>)           │ (<span style=\"color: #00d7ff; text-decoration-color: #00d7ff\">None</span>, <span style=\"color: #00af00; text-decoration-color: #00af00\">200</span>, <span style=\"color: #00af00; text-decoration-color: #00af00\">128</span>)       │     <span style=\"color: #00af00; text-decoration-color: #00af00\">3,840,128</span> │\n",
              "├─────────────────────────────────┼────────────────────────┼───────────────┤\n",
              "│ bidirectional (<span style=\"color: #0087ff; text-decoration-color: #0087ff\">Bidirectional</span>)   │ (<span style=\"color: #00d7ff; text-decoration-color: #00d7ff\">None</span>, <span style=\"color: #00af00; text-decoration-color: #00af00\">128</span>)            │        <span style=\"color: #00af00; text-decoration-color: #00af00\">98,816</span> │\n",
              "├─────────────────────────────────┼────────────────────────┼───────────────┤\n",
              "│ dropout (<span style=\"color: #0087ff; text-decoration-color: #0087ff\">Dropout</span>)               │ (<span style=\"color: #00d7ff; text-decoration-color: #00d7ff\">None</span>, <span style=\"color: #00af00; text-decoration-color: #00af00\">128</span>)            │             <span style=\"color: #00af00; text-decoration-color: #00af00\">0</span> │\n",
              "├─────────────────────────────────┼────────────────────────┼───────────────┤\n",
              "│ dense (<span style=\"color: #0087ff; text-decoration-color: #0087ff\">Dense</span>)                   │ (<span style=\"color: #00d7ff; text-decoration-color: #00d7ff\">None</span>, <span style=\"color: #00af00; text-decoration-color: #00af00\">64</span>)             │         <span style=\"color: #00af00; text-decoration-color: #00af00\">8,256</span> │\n",
              "├─────────────────────────────────┼────────────────────────┼───────────────┤\n",
              "│ dropout_1 (<span style=\"color: #0087ff; text-decoration-color: #0087ff\">Dropout</span>)             │ (<span style=\"color: #00d7ff; text-decoration-color: #00d7ff\">None</span>, <span style=\"color: #00af00; text-decoration-color: #00af00\">64</span>)             │             <span style=\"color: #00af00; text-decoration-color: #00af00\">0</span> │\n",
              "├─────────────────────────────────┼────────────────────────┼───────────────┤\n",
              "│ dense_1 (<span style=\"color: #0087ff; text-decoration-color: #0087ff\">Dense</span>)                 │ (<span style=\"color: #00d7ff; text-decoration-color: #00d7ff\">None</span>, <span style=\"color: #00af00; text-decoration-color: #00af00\">6</span>)              │           <span style=\"color: #00af00; text-decoration-color: #00af00\">390</span> │\n",
              "└─────────────────────────────────┴────────────────────────┴───────────────┘\n",
              "</pre>\n"
            ]
          },
          "metadata": {}
        },
        {
          "output_type": "display_data",
          "data": {
            "text/plain": [
              "\u001b[1m Total params: \u001b[0m\u001b[38;5;34m3,947,590\u001b[0m (15.06 MB)\n"
            ],
            "text/html": [
              "<pre style=\"white-space:pre;overflow-x:auto;line-height:normal;font-family:Menlo,'DejaVu Sans Mono',consolas,'Courier New',monospace\"><span style=\"font-weight: bold\"> Total params: </span><span style=\"color: #00af00; text-decoration-color: #00af00\">3,947,590</span> (15.06 MB)\n",
              "</pre>\n"
            ]
          },
          "metadata": {}
        },
        {
          "output_type": "display_data",
          "data": {
            "text/plain": [
              "\u001b[1m Trainable params: \u001b[0m\u001b[38;5;34m3,947,590\u001b[0m (15.06 MB)\n"
            ],
            "text/html": [
              "<pre style=\"white-space:pre;overflow-x:auto;line-height:normal;font-family:Menlo,'DejaVu Sans Mono',consolas,'Courier New',monospace\"><span style=\"font-weight: bold\"> Trainable params: </span><span style=\"color: #00af00; text-decoration-color: #00af00\">3,947,590</span> (15.06 MB)\n",
              "</pre>\n"
            ]
          },
          "metadata": {}
        },
        {
          "output_type": "display_data",
          "data": {
            "text/plain": [
              "\u001b[1m Non-trainable params: \u001b[0m\u001b[38;5;34m0\u001b[0m (0.00 B)\n"
            ],
            "text/html": [
              "<pre style=\"white-space:pre;overflow-x:auto;line-height:normal;font-family:Menlo,'DejaVu Sans Mono',consolas,'Courier New',monospace\"><span style=\"font-weight: bold\"> Non-trainable params: </span><span style=\"color: #00af00; text-decoration-color: #00af00\">0</span> (0.00 B)\n",
              "</pre>\n"
            ]
          },
          "metadata": {}
        }
      ]
    },
    {
      "cell_type": "markdown",
      "source": [
        "### <font color=\"yellow\">***Training del modello***</font>"
      ],
      "metadata": {
        "id": "Lh6-dFLZB0La"
      }
    },
    {
      "cell_type": "markdown",
      "source": [
        "Uso binary crossentrpy in quanto sto effettuando previsioni binarie su classi\n",
        "\n",
        "Imposto accuracy e AUC sulla precision-recall curve come metriche di valutazione durante il training (quest'ultima dovrebbe essere più sensibile alla classi rare, rispetto alla tradizionale ROC-AUC)"
      ],
      "metadata": {
        "id": "IoQ6kxePDm-n"
      }
    },
    {
      "cell_type": "code",
      "source": [
        "model.compile(\n",
        "    loss=\"binary_crossentropy\",\n",
        "    optimizer=tf.keras.optimizers.Adam(learning_rate=1e-3), #uso adam come optimizer che di solito funzione sempre\n",
        "    metrics=[tf.keras.metrics.BinaryAccuracy(name=\"acc\"), tf.keras.metrics.AUC(curve=\"PR\", name=\"auc_pr\")] #\n",
        ")"
      ],
      "metadata": {
        "id": "OfIV8AbECG7Y"
      },
      "execution_count": null,
      "outputs": []
    },
    {
      "cell_type": "markdown",
      "source": [
        "Come callbacks imposto un early stopper che ferma l'addestramento se per 4 epoche consecutive non si migliorano i valori delle metriche di valutazione (restore best weights ci restituirà i pesi migliori ottenuti durante il training)\n",
        "\n",
        "ReduceLROnPlateau ho letto che dovrebbe aiutare a superare la zone piatte di apprendimento, dimezzando (factor = 0.5) il learning rate dell'optimizer se non ho miglioramenti per 2 epoche (patience =2)"
      ],
      "metadata": {
        "id": "Ny46TXcHEExF"
      }
    },
    {
      "cell_type": "markdown",
      "source": [
        "Sto notando che l'addestramento richiede molto tempo (20 minuti a epoca), provo a ridurre il tempo complessivo cambiando runtime e mettendo una GPU che dovrebbe performare molto meglio con reti neurali ricorrenti.\n",
        "Inoltre provo ad aumentare il batch size da 128 a 512\n",
        "Sono riuscito così a incrementare la velocità di addestramento di 40x circa"
      ],
      "metadata": {
        "id": "eR4Es0bnGqws"
      }
    },
    {
      "cell_type": "code",
      "source": [
        "BATCH_SIZE = 512\n",
        "EPOCHS = 20\n",
        "\n",
        "callbacks = [\n",
        "    EarlyStopping(patience=4, restore_best_weights=True),\n",
        "    ReduceLROnPlateau(patience=2, factor=0.5, verbose=1)\n",
        "]\n",
        "\n",
        "history = model.fit(\n",
        "    X_train, y_train,\n",
        "    validation_data=(X_val, y_val),\n",
        "    epochs=EPOCHS,\n",
        "    batch_size=BATCH_SIZE,\n",
        "    callbacks=callbacks,\n",
        "    class_weight=class_weights  # applies per‑output weights\n",
        ")"
      ],
      "metadata": {
        "colab": {
          "base_uri": "https://localhost:8080/"
        },
        "id": "g2-ALNElW93h",
        "outputId": "bcc0a0a0-52ed-4440-fcba-81a71645b707"
      },
      "execution_count": null,
      "outputs": [
        {
          "metadata": {
            "tags": null
          },
          "name": "stdout",
          "output_type": "stream",
          "text": [
            "Epoch 1/20\n",
            "\u001b[1m219/219\u001b[0m \u001b[32m━━━━━━━━━━━━━━━━━━━━\u001b[0m\u001b[37m\u001b[0m \u001b[1m20s\u001b[0m 55ms/step - acc: 0.9520 - auc_pr: 0.1548 - loss: 1.9660 - val_acc: 0.9782 - val_auc_pr: 0.7281 - val_loss: 0.0649 - learning_rate: 0.0010\n",
            "Epoch 2/20\n",
            "\u001b[1m219/219\u001b[0m \u001b[32m━━━━━━━━━━━━━━━━━━━━\u001b[0m\u001b[37m\u001b[0m \u001b[1m12s\u001b[0m 53ms/step - acc: 0.9795 - auc_pr: 0.7511 - loss: 0.6888 - val_acc: 0.9815 - val_auc_pr: 0.7907 - val_loss: 0.0539 - learning_rate: 0.0010\n",
            "Epoch 3/20\n",
            "\u001b[1m219/219\u001b[0m \u001b[32m━━━━━━━━━━━━━━━━━━━━\u001b[0m\u001b[37m\u001b[0m \u001b[1m11s\u001b[0m 51ms/step - acc: 0.9820 - auc_pr: 0.8100 - loss: 0.5741 - val_acc: 0.9819 - val_auc_pr: 0.7956 - val_loss: 0.0535 - learning_rate: 0.0010\n",
            "Epoch 4/20\n",
            "\u001b[1m219/219\u001b[0m \u001b[32m━━━━━━━━━━━━━━━━━━━━\u001b[0m\u001b[37m\u001b[0m \u001b[1m21s\u001b[0m 55ms/step - acc: 0.9830 - auc_pr: 0.8340 - loss: 0.5202 - val_acc: 0.9813 - val_auc_pr: 0.7971 - val_loss: 0.0531 - learning_rate: 0.0010\n",
            "Epoch 5/20\n",
            "\u001b[1m219/219\u001b[0m \u001b[32m━━━━━━━━━━━━━━━━━━━━\u001b[0m\u001b[37m\u001b[0m \u001b[1m20s\u001b[0m 53ms/step - acc: 0.9830 - auc_pr: 0.8390 - loss: 0.5077 - val_acc: 0.9817 - val_auc_pr: 0.7979 - val_loss: 0.0535 - learning_rate: 0.0010\n",
            "Epoch 6/20\n",
            "\u001b[1m218/219\u001b[0m \u001b[32m━━━━━━━━━━━━━━━━━━━\u001b[0m\u001b[37m━\u001b[0m \u001b[1m0s\u001b[0m 50ms/step - acc: 0.9839 - auc_pr: 0.8574 - loss: 0.4724\n",
            "Epoch 6: ReduceLROnPlateau reducing learning rate to 0.0005000000237487257.\n",
            "\u001b[1m219/219\u001b[0m \u001b[32m━━━━━━━━━━━━━━━━━━━━\u001b[0m\u001b[37m\u001b[0m \u001b[1m21s\u001b[0m 54ms/step - acc: 0.9839 - auc_pr: 0.8574 - loss: 0.4724 - val_acc: 0.9820 - val_auc_pr: 0.7963 - val_loss: 0.0551 - learning_rate: 0.0010\n",
            "Epoch 7/20\n",
            "\u001b[1m219/219\u001b[0m \u001b[32m━━━━━━━━━━━━━━━━━━━━\u001b[0m\u001b[37m\u001b[0m \u001b[1m21s\u001b[0m 55ms/step - acc: 0.9848 - auc_pr: 0.8710 - loss: 0.4508 - val_acc: 0.9817 - val_auc_pr: 0.7983 - val_loss: 0.0540 - learning_rate: 5.0000e-04\n",
            "Epoch 8/20\n",
            "\u001b[1m218/219\u001b[0m \u001b[32m━━━━━━━━━━━━━━━━━━━\u001b[0m\u001b[37m━\u001b[0m \u001b[1m0s\u001b[0m 51ms/step - acc: 0.9851 - auc_pr: 0.8768 - loss: 0.4325\n",
            "Epoch 8: ReduceLROnPlateau reducing learning rate to 0.0002500000118743628.\n",
            "\u001b[1m219/219\u001b[0m \u001b[32m━━━━━━━━━━━━━━━━━━━━\u001b[0m\u001b[37m\u001b[0m \u001b[1m20s\u001b[0m 55ms/step - acc: 0.9851 - auc_pr: 0.8769 - loss: 0.4325 - val_acc: 0.9819 - val_auc_pr: 0.7954 - val_loss: 0.0556 - learning_rate: 5.0000e-04\n"
          ]
        }
      ]
    },
    {
      "cell_type": "markdown",
      "source": [
        "### <font color=\"yellow\">***Inferenza/Validazione modello***</font>"
      ],
      "metadata": {
        "id": "GH_c635OA0pg"
      }
    },
    {
      "cell_type": "code",
      "source": [
        "# Evaluation on test set\n",
        "y_pred = (model.predict(X_test) > 0.5).astype(int)\n",
        "print(\"\\nOverall accuracy:\", accuracy_score(y_test, y_pred))\n",
        "print(\"Macro F1‑score:\", f1_score(y_test, y_pred, average=\"macro\"))\n",
        "print(\"Detailed report:\\n\", classification_report(y_test, y_pred, target_names=LABELS))\n"
      ],
      "metadata": {
        "colab": {
          "base_uri": "https://localhost:8080/"
        },
        "id": "tM5cp8iRW91N",
        "outputId": "d00ee820-cf58-428d-88d8-73bb452a8ca0"
      },
      "execution_count": null,
      "outputs": [
        {
          "output_type": "stream",
          "name": "stdout",
          "text": [
            "\u001b[1m748/748\u001b[0m \u001b[32m━━━━━━━━━━━━━━━━━━━━\u001b[0m\u001b[37m\u001b[0m \u001b[1m6s\u001b[0m 7ms/step\n",
            "\n",
            "Overall accuracy: 0.9182820855614974\n",
            "Macro F1‑score: 0.4168568412369907\n",
            "Detailed report:\n",
            "                precision    recall  f1-score   support\n",
            "\n",
            "        toxic       0.91      0.65      0.75      2320\n",
            " severe_toxic       0.54      0.15      0.24       246\n",
            "      obscene       0.81      0.78      0.80      1293\n",
            "       threat       0.00      0.00      0.00        67\n",
            "       insult       0.74      0.68      0.71      1219\n",
            "identity_hate       0.00      0.00      0.00       225\n",
            "\n",
            "    micro avg       0.82      0.63      0.71      5370\n",
            "    macro avg       0.50      0.38      0.42      5370\n",
            " weighted avg       0.78      0.63      0.69      5370\n",
            "  samples avg       0.06      0.05      0.05      5370\n",
            "\n"
          ]
        }
      ]
    },
    {
      "cell_type": "markdown",
      "source": [
        "Ci sono chiaramente dei problemi con la classe threat e identity hate, evidentemente nessun commento è risultato appartenente a questa classe.\n",
        "\n",
        "Provo a diminuire le threshold per le varie categorie massimizzando l'F1 score."
      ],
      "metadata": {
        "id": "_4SQIgx5MhNt"
      }
    },
    {
      "cell_type": "code",
      "source": [
        "from sklearn.metrics import f1_score\n",
        "\n",
        "val_probs = model.predict(X_val, batch_size=256)\n",
        "\n",
        "best_thr = []\n",
        "for i, lab in enumerate(LABELS):\n",
        "    y_true = y_val[:, i]\n",
        "    scores, thrs = [], np.linspace(0.05, 0.9, 18)\n",
        "    for t in thrs:\n",
        "        scores.append(f1_score(y_true, (val_probs[:, i] >= t).astype(int)))\n",
        "    best_thr.append(thrs[np.argmax(scores)])\n",
        "    print(f\"{lab:15}  best_thr = {best_thr[-1]:.2f}   max F1 = {max(scores):.3f}\")\n",
        "\n",
        "test_probs = model.predict(X_test, batch_size=256)\n",
        "y_pred_opt = np.array([\n",
        "    (test_probs[:, i] >= best_thr[i]).astype(int)\n",
        "    for i in range(len(LABELS))\n",
        "]).T\n",
        "\n",
        "print(classification_report(y_test, y_pred_opt, target_names=LABELS))"
      ],
      "metadata": {
        "colab": {
          "base_uri": "https://localhost:8080/"
        },
        "id": "SOOMurfqW9y9",
        "outputId": "374413a9-50bf-4838-a153-f43544fadce1"
      },
      "execution_count": null,
      "outputs": [
        {
          "output_type": "stream",
          "name": "stdout",
          "text": [
            "\u001b[1m94/94\u001b[0m \u001b[32m━━━━━━━━━━━━━━━━━━━━\u001b[0m\u001b[37m\u001b[0m \u001b[1m1s\u001b[0m 11ms/step\n",
            "toxic            best_thr = 0.35   max F1 = 0.770\n",
            "severe_toxic     best_thr = 0.25   max F1 = 0.499\n",
            "obscene          best_thr = 0.40   max F1 = 0.797\n",
            "threat           best_thr = 0.10   max F1 = 0.047\n",
            "insult           best_thr = 0.35   max F1 = 0.715\n",
            "identity_hate    best_thr = 0.15   max F1 = 0.186\n",
            "\u001b[1m94/94\u001b[0m \u001b[32m━━━━━━━━━━━━━━━━━━━━\u001b[0m\u001b[37m\u001b[0m \u001b[1m1s\u001b[0m 13ms/step\n",
            "               precision    recall  f1-score   support\n",
            "\n",
            "        toxic       0.83      0.74      0.78      2320\n",
            " severe_toxic       0.38      0.66      0.48       246\n",
            "      obscene       0.78      0.81      0.80      1293\n",
            "       threat       0.03      0.09      0.05        67\n",
            "       insult       0.68      0.76      0.72      1219\n",
            "identity_hate       0.19      0.31      0.23       225\n",
            "\n",
            "    micro avg       0.68      0.73      0.71      5370\n",
            "    macro avg       0.48      0.56      0.51      5370\n",
            " weighted avg       0.73      0.73      0.73      5370\n",
            "  samples avg       0.06      0.07      0.06      5370\n",
            "\n"
          ]
        }
      ]
    },
    {
      "cell_type": "markdown",
      "source": [
        "Anche in questo caso i risultati non sono cosi soddisfacenti, anche se almeno il modello inizia a prevedere correttamente qualche valore riferito alla classe threat o identity hate (però abbassa veramente di tanto la soglia, troppo)"
      ],
      "metadata": {
        "id": "FgnlosR0BB0b"
      }
    },
    {
      "cell_type": "markdown",
      "source": [
        "... test vari per migliorare il modello ...\n"
      ],
      "metadata": {
        "id": "OkWXZGLTBFxz"
      }
    },
    {
      "cell_type": "markdown",
      "source": [
        "------------------------------------------------------------------\n",
        "Dopo un po' di tentativi di miglioramento\n",
        "------------------------------------------------------------------"
      ],
      "metadata": {
        "id": "rGmwLGDXN-S1"
      }
    },
    {
      "cell_type": "markdown",
      "source": [
        "L'F1 score, anche dopo un po' di variazioni del modello base non è risultato soddisfacente per le classi threat e identity_hate.\n",
        "\n",
        "Evidentemente ci sono comunque troppi pochi esempi per queste classi e la rete non riesce a generalizzare su questi -> Ho quindi deciso di fare un undersampling su tutto il dataset, andando a rimuovere molti dei commenti con tutte le classi target = 0, e poi successivamente fare anche un leggero oversampling sulle 2 classi meno rappresentate e che davano più problemi(threat e identity_hate).\n",
        "\n",
        "In questa maniera riesco a milgiorare il bilanciamento complessivo delle classi all'interno del dataset"
      ],
      "metadata": {
        "id": "EYE0e3n2mbRl"
      }
    },
    {
      "cell_type": "code",
      "source": [
        "# pulizia da modelli salvati in memoria\n",
        "tf.keras.backend.clear_session()"
      ],
      "metadata": {
        "id": "yy_slMqF0qDu"
      },
      "execution_count": null,
      "outputs": []
    },
    {
      "cell_type": "markdown",
      "source": [
        "Qui sotto mi creo la funzione per l'undersampling"
      ],
      "metadata": {
        "id": "VxmIKuSu07bw"
      }
    },
    {
      "cell_type": "code",
      "source": [
        "def undersample_negatives(\n",
        "        df: pd.DataFrame,\n",
        "        label_cols: list,\n",
        "        keep_ratio: float = 0.5,\n",
        "        random_state: int = 42,\n",
        ") -> pd.DataFrame:\n",
        "    \"\"\"\n",
        "    Restituisce un nuovo DataFrame con una frazione dei casi completamente negativi.\n",
        "\n",
        "    Parametri\n",
        "    ---------\n",
        "    df          : DataFrame originale.\n",
        "    label_cols  : colonne (0/1) delle etichette multi-label.\n",
        "    keep_ratio  : percentuale di record 'all-zero' da TENERE\n",
        "                  (es. 0.5 = ne scarta la metà; 0.2 = ne scarta l’80 %).\n",
        "    random_state: per riproducibilità.\n",
        "    \"\"\"\n",
        "\n",
        "    mask_neg = (df[label_cols].sum(axis=1) == 0)\n",
        "\n",
        "    df_neg = df[mask_neg]\n",
        "    df_pos = df[~mask_neg]\n",
        "\n",
        "    n_keep = int(len(df_neg) * keep_ratio)\n",
        "    df_neg_sampled = df_neg.sample(n=n_keep, random_state=random_state)\n",
        "\n",
        "    df_balanced = pd.concat([df_pos, df_neg_sampled]).sample(\n",
        "        frac=1, random_state=random_state).reset_index(drop=True)\n",
        "\n",
        "    return df_balanced\n"
      ],
      "metadata": {
        "id": "dCNINl5606qd"
      },
      "execution_count": null,
      "outputs": []
    },
    {
      "cell_type": "code",
      "source": [
        "# mi creo questa funzione per vedere la distribuzione complessiva delle varie classi target nel dataset modificato\n",
        "def show_distribution(df, label_cols):\n",
        "    \"\"\"\n",
        "    Stampa il numero di record per etichetta e il totale di righe 'all-zero'.\n",
        "    \"\"\"\n",
        "    counts = df[label_cols].sum().sort_values(ascending=False)\n",
        "    all_zero = (df[label_cols].sum(axis=1) == 0).sum()\n",
        "\n",
        "    print(\"Numero di commenti per categoria:\")\n",
        "    print(counts)\n",
        "    print(f\"\\nRighe con tutte le label = 0: {all_zero}\\n\")"
      ],
      "metadata": {
        "id": "rz-9uVwz10SO"
      },
      "execution_count": null,
      "outputs": []
    },
    {
      "cell_type": "code",
      "source": [
        "LABELS = [\"toxic\", \"severe_toxic\", \"obscene\",\n",
        "          \"threat\", \"insult\", \"identity_hate\"]\n",
        "\n",
        "# voglio mantenere solo il 15 % dei commenti completamente “puliti”\n",
        "df_bal = undersample_negatives(df, LABELS, keep_ratio=0.16)\n",
        "\n",
        "print(\"Shape originale :\", df.shape)\n",
        "print(\"Shape bilanciata:\", df_bal.shape)\n",
        "\n",
        "# ricontrolla la distribuzione\n",
        "show_distribution(df_bal, LABELS)\n"
      ],
      "metadata": {
        "colab": {
          "base_uri": "https://localhost:8080/"
        },
        "id": "Rew4BqWX1IwJ",
        "outputId": "fb0a0df2-3a39-45fe-be2c-5f420d6aa9e3"
      },
      "execution_count": null,
      "outputs": [
        {
          "output_type": "stream",
          "name": "stdout",
          "text": [
            "Shape originale : (159571, 7)\n",
            "Shape bilanciata: (39160, 7)\n",
            "Numero di commenti per categoria:\n",
            "toxic            15294\n",
            "obscene           8449\n",
            "insult            7877\n",
            "severe_toxic      1595\n",
            "identity_hate     1405\n",
            "threat             478\n",
            "dtype: int64\n",
            "\n",
            "Righe con tutte le label = 0: 22935\n",
            "\n"
          ]
        }
      ]
    },
    {
      "cell_type": "markdown",
      "source": [
        "Qui sotto ripeto ciò che avevo già precedentemente fatto (tokenizzazione, train_test_split, calcolo pesi per lo sblianciamento delle classi e costruzione modello)\n",
        "Avendo rimosso molti record con l'undersampling vado a ridurre lievemente anche la dimensione del vocabolario (da 30000 a 25000)"
      ],
      "metadata": {
        "id": "4W7G2CXpnqmS"
      }
    },
    {
      "cell_type": "code",
      "source": [
        "VOCAB_SIZE = 25000\n",
        "MAX_LEN = 200\n",
        "\n",
        "tokenizer = Tokenizer(num_words=VOCAB_SIZE,oov_token=\"<OOV>\") # uso oov (out of vocabulary) come placeholder per i token non presenti in vocabolario\n",
        "tokenizer.fit_on_texts(df_bal[\"comment_text\"].values)\n",
        "\n",
        "sequences = tokenizer.texts_to_sequences(df_bal[\"comment_text\"].values)\n",
        "X = pad_sequences(sequences, maxlen=MAX_LEN, padding=\"post\", truncating=\"post\")\n",
        "\n",
        "y = df_bal[LABELS].values.astype(np.float32)"
      ],
      "metadata": {
        "id": "WC4AMsmunZbA"
      },
      "execution_count": null,
      "outputs": []
    },
    {
      "cell_type": "code",
      "source": [
        "X_train, X_temp, y_train, y_temp = train_test_split(\n",
        "    X, y, test_size=0.30, random_state=SEED, shuffle=True)\n",
        "\n",
        "X_val, X_test, y_val, y_test = train_test_split(\n",
        "    X_temp, y_temp, test_size=0.5, random_state=SEED, shuffle=True)\n",
        "\n",
        "print(f\"Train: {len(X_train)} | Val: {len(X_val)} | Test: {len(X_test)}\")"
      ],
      "metadata": {
        "colab": {
          "base_uri": "https://localhost:8080/"
        },
        "id": "wKGWasCjna5-",
        "outputId": "7d59eb89-060d-4037-bc86-53d7b1e3c175"
      },
      "execution_count": null,
      "outputs": [
        {
          "output_type": "stream",
          "name": "stdout",
          "text": [
            "Train: 27412 | Val: 5874 | Test: 5874\n"
          ]
        }
      ]
    },
    {
      "cell_type": "markdown",
      "source": [
        "Ora mi creo la funzione che poi uso per fare oversampling delle due classi problematiche. L'oversampling viene effettuato solo sulla parte di training del dataset per evitare che record duplicati uguali finiscano sia in train che test/val e quindi il modello vada a memorizzare più che imparare effettivamente."
      ],
      "metadata": {
        "id": "QG1z_iwl7itW"
      }
    },
    {
      "cell_type": "code",
      "source": [
        "# LABELS deve essere la lista delle 6 label nella stessa posizione usata per y_train\n",
        "LABELS = [\"toxic\", \"severe_toxic\", \"obscene\", \"threat\", \"insult\", \"identity_hate\"]\n",
        "\n",
        "def oversample_multilabel(X, y, factors):\n",
        "    \"\"\"\n",
        "    X        : np.ndarray  (n_sample, max_len)   –  sequenze già pad-date\n",
        "    y        : np.ndarray  (n_sample, n_label)   –  vettori 0/1\n",
        "    factors  : dict {label: factor}              –  es. {\"threat\":5, \"identity_hate\":4}\n",
        "                il factor è quante volte in totale vuoi il record (1 = niente duplicati)\n",
        "\n",
        "    Restituisce: X_os, y_os  (stesso dtype, ordine originale preservato)\n",
        "    \"\"\"\n",
        "    X_out, y_out = [], []\n",
        "\n",
        "    col_idx = {lab: LABELS.index(lab) for lab in factors.keys()}\n",
        "\n",
        "    for xi, yi in zip(X, y):\n",
        "        X_out.append(xi)\n",
        "        y_out.append(yi)\n",
        "\n",
        "        mult = 1\n",
        "        for lab, fac in factors.items():\n",
        "            if yi[col_idx[lab]] == 1:\n",
        "                mult = max(mult, fac)\n",
        "\n",
        "        for _ in range(mult - 1):\n",
        "            X_out.append(xi)\n",
        "            y_out.append(yi)\n",
        "\n",
        "    return np.asarray(X_out), np.asarray(y_out)\n"
      ],
      "metadata": {
        "id": "txYCj5wZ5kIF"
      },
      "execution_count": null,
      "outputs": []
    },
    {
      "cell_type": "code",
      "source": [
        "# fattori di oversampling\n",
        "dup_factors =  {\"threat\":2, \"identity_hate\":2}\n",
        "\n",
        "X_train_os, y_train_os = oversample_multilabel(X_train, y_train, dup_factors)\n",
        "\n",
        "print(\"prima :\", X_train.shape, y_train.shape)\n",
        "print(\"dopo  :\", X_train_os.shape, y_train_os.shape)"
      ],
      "metadata": {
        "colab": {
          "base_uri": "https://localhost:8080/"
        },
        "id": "tYUAz6o35kF8",
        "outputId": "5c07f759-20fe-42b9-e487-6b37a8169b92"
      },
      "execution_count": null,
      "outputs": [
        {
          "output_type": "stream",
          "name": "stdout",
          "text": [
            "prima : (27412, 200) (27412, 6)\n",
            "dopo  : (28670, 200) (28670, 6)\n"
          ]
        }
      ]
    },
    {
      "cell_type": "code",
      "source": [
        "# Sbilanciamento classi\n",
        "positive_counts = y_train_os.sum(axis=0)\n",
        "negative_counts = len(y_train_os) - positive_counts\n",
        "class_weights = {\n",
        "    i: negative_counts[i] / (positive_counts[i])\n",
        "    for i in range(len(LABELS))\n",
        "}\n",
        "print(\"Class weights (è presente un record appartenente a quella classe ogni tot occorrenze)\", class_weights)\n",
        "## ricordo l'ordine delle LABELS = [\"toxic\", \"severe_toxic\", \"obscene\", \"threat\", \"insult\", \"identity_hate\"]"
      ],
      "metadata": {
        "colab": {
          "base_uri": "https://localhost:8080/"
        },
        "id": "xZBlSoMG6-2Y",
        "outputId": "93b1321c-ab52-477c-cf99-2a7898608589"
      },
      "execution_count": null,
      "outputs": [
        {
          "output_type": "stream",
          "name": "stdout",
          "text": [
            "Class weights (è presente un record appartenente a quella classe ogni tot occorrenze) {0: np.float32(1.4157398), 1: np.float32(20.065393), 2: np.float32(3.239243), 3: np.float32(41.038124), 4: np.float32(3.4325912), 5: np.float32(13.421529)}\n"
          ]
        }
      ]
    },
    {
      "cell_type": "markdown",
      "source": [
        "Ho deciso di modificare anche l'architettura del modello.\n",
        "\n",
        "In particolare ho aggiunto un layer convoluzionale che dovrebbe essere in grado di catturare insulti o volgarità che spesso sono sequenze corte di poche parole (da qui il 5 per il kernel size).\n",
        "Così che la parte LSTM si possa concentrare più sulla dipendenza tra regioni diverse della frase più che su ogni token singolo.\n",
        "\n",
        "Ho aggiunto anche un max_pooling per introdurre una invarianza traslazionale.\n",
        "\n",
        "Ho aggiunto un layer bidirezionale e un layer denso e aumentato il numero di neuroni, nella speranza che una rete un po' più grande/profonda sia in grado di catturare pattern più complessi e sfumature di significato più nascoste."
      ],
      "metadata": {
        "id": "g8hAI_uR8AI-"
      }
    },
    {
      "cell_type": "code",
      "source": [
        "model = Sequential([\n",
        "    Embedding(VOCAB_SIZE + 1, EMB_DIM, input_shape=(MAX_LEN,), mask_zero=False),\n",
        "\n",
        "    Conv1D(filters=256, kernel_size=5, activation=\"relu\", padding=\"same\"),\n",
        "    MaxPooling1D(pool_size=2),\n",
        "\n",
        "    Bidirectional(LSTM(128, return_sequences=True)),\n",
        "    Bidirectional(LSTM(256, return_sequences=True)),\n",
        "    GlobalMaxPooling1D(),\n",
        "\n",
        "    Dropout(0.3),\n",
        "    Dense(128, activation=\"relu\"),\n",
        "    Dense(256, activation=\"relu\"),\n",
        "    Dropout(0.5),\n",
        "    Dense(len(LABELS), activation=\"sigmoid\")\n",
        "])\n",
        "\n",
        "\n",
        "model.summary()"
      ],
      "metadata": {
        "colab": {
          "base_uri": "https://localhost:8080/",
          "height": 500
        },
        "id": "ZHosrbEuAzLw",
        "outputId": "4d8bf139-e765-4f8f-d1f4-a86ab8d89c7d"
      },
      "execution_count": null,
      "outputs": [
        {
          "output_type": "display_data",
          "data": {
            "text/plain": [
              "\u001b[1mModel: \"sequential\"\u001b[0m\n"
            ],
            "text/html": [
              "<pre style=\"white-space:pre;overflow-x:auto;line-height:normal;font-family:Menlo,'DejaVu Sans Mono',consolas,'Courier New',monospace\"><span style=\"font-weight: bold\">Model: \"sequential\"</span>\n",
              "</pre>\n"
            ]
          },
          "metadata": {}
        },
        {
          "output_type": "display_data",
          "data": {
            "text/plain": [
              "┏━━━━━━━━━━━━━━━━━━━━━━━━━━━━━━━━━┳━━━━━━━━━━━━━━━━━━━━━━━━┳━━━━━━━━━━━━━━━┓\n",
              "┃\u001b[1m \u001b[0m\u001b[1mLayer (type)                   \u001b[0m\u001b[1m \u001b[0m┃\u001b[1m \u001b[0m\u001b[1mOutput Shape          \u001b[0m\u001b[1m \u001b[0m┃\u001b[1m \u001b[0m\u001b[1m      Param #\u001b[0m\u001b[1m \u001b[0m┃\n",
              "┡━━━━━━━━━━━━━━━━━━━━━━━━━━━━━━━━━╇━━━━━━━━━━━━━━━━━━━━━━━━╇━━━━━━━━━━━━━━━┩\n",
              "│ embedding (\u001b[38;5;33mEmbedding\u001b[0m)           │ (\u001b[38;5;45mNone\u001b[0m, \u001b[38;5;34m200\u001b[0m, \u001b[38;5;34m128\u001b[0m)       │     \u001b[38;5;34m3,200,128\u001b[0m │\n",
              "├─────────────────────────────────┼────────────────────────┼───────────────┤\n",
              "│ conv1d (\u001b[38;5;33mConv1D\u001b[0m)                 │ (\u001b[38;5;45mNone\u001b[0m, \u001b[38;5;34m200\u001b[0m, \u001b[38;5;34m256\u001b[0m)       │       \u001b[38;5;34m164,096\u001b[0m │\n",
              "├─────────────────────────────────┼────────────────────────┼───────────────┤\n",
              "│ max_pooling1d (\u001b[38;5;33mMaxPooling1D\u001b[0m)    │ (\u001b[38;5;45mNone\u001b[0m, \u001b[38;5;34m100\u001b[0m, \u001b[38;5;34m256\u001b[0m)       │             \u001b[38;5;34m0\u001b[0m │\n",
              "├─────────────────────────────────┼────────────────────────┼───────────────┤\n",
              "│ bidirectional (\u001b[38;5;33mBidirectional\u001b[0m)   │ (\u001b[38;5;45mNone\u001b[0m, \u001b[38;5;34m100\u001b[0m, \u001b[38;5;34m256\u001b[0m)       │       \u001b[38;5;34m394,240\u001b[0m │\n",
              "├─────────────────────────────────┼────────────────────────┼───────────────┤\n",
              "│ bidirectional_1 (\u001b[38;5;33mBidirectional\u001b[0m) │ (\u001b[38;5;45mNone\u001b[0m, \u001b[38;5;34m100\u001b[0m, \u001b[38;5;34m512\u001b[0m)       │     \u001b[38;5;34m1,050,624\u001b[0m │\n",
              "├─────────────────────────────────┼────────────────────────┼───────────────┤\n",
              "│ global_max_pooling1d            │ (\u001b[38;5;45mNone\u001b[0m, \u001b[38;5;34m512\u001b[0m)            │             \u001b[38;5;34m0\u001b[0m │\n",
              "│ (\u001b[38;5;33mGlobalMaxPooling1D\u001b[0m)            │                        │               │\n",
              "├─────────────────────────────────┼────────────────────────┼───────────────┤\n",
              "│ dropout (\u001b[38;5;33mDropout\u001b[0m)               │ (\u001b[38;5;45mNone\u001b[0m, \u001b[38;5;34m512\u001b[0m)            │             \u001b[38;5;34m0\u001b[0m │\n",
              "├─────────────────────────────────┼────────────────────────┼───────────────┤\n",
              "│ dense (\u001b[38;5;33mDense\u001b[0m)                   │ (\u001b[38;5;45mNone\u001b[0m, \u001b[38;5;34m128\u001b[0m)            │        \u001b[38;5;34m65,664\u001b[0m │\n",
              "├─────────────────────────────────┼────────────────────────┼───────────────┤\n",
              "│ dense_1 (\u001b[38;5;33mDense\u001b[0m)                 │ (\u001b[38;5;45mNone\u001b[0m, \u001b[38;5;34m256\u001b[0m)            │        \u001b[38;5;34m33,024\u001b[0m │\n",
              "├─────────────────────────────────┼────────────────────────┼───────────────┤\n",
              "│ dropout_1 (\u001b[38;5;33mDropout\u001b[0m)             │ (\u001b[38;5;45mNone\u001b[0m, \u001b[38;5;34m256\u001b[0m)            │             \u001b[38;5;34m0\u001b[0m │\n",
              "├─────────────────────────────────┼────────────────────────┼───────────────┤\n",
              "│ dense_2 (\u001b[38;5;33mDense\u001b[0m)                 │ (\u001b[38;5;45mNone\u001b[0m, \u001b[38;5;34m6\u001b[0m)              │         \u001b[38;5;34m1,542\u001b[0m │\n",
              "└─────────────────────────────────┴────────────────────────┴───────────────┘\n"
            ],
            "text/html": [
              "<pre style=\"white-space:pre;overflow-x:auto;line-height:normal;font-family:Menlo,'DejaVu Sans Mono',consolas,'Courier New',monospace\">┏━━━━━━━━━━━━━━━━━━━━━━━━━━━━━━━━━┳━━━━━━━━━━━━━━━━━━━━━━━━┳━━━━━━━━━━━━━━━┓\n",
              "┃<span style=\"font-weight: bold\"> Layer (type)                    </span>┃<span style=\"font-weight: bold\"> Output Shape           </span>┃<span style=\"font-weight: bold\">       Param # </span>┃\n",
              "┡━━━━━━━━━━━━━━━━━━━━━━━━━━━━━━━━━╇━━━━━━━━━━━━━━━━━━━━━━━━╇━━━━━━━━━━━━━━━┩\n",
              "│ embedding (<span style=\"color: #0087ff; text-decoration-color: #0087ff\">Embedding</span>)           │ (<span style=\"color: #00d7ff; text-decoration-color: #00d7ff\">None</span>, <span style=\"color: #00af00; text-decoration-color: #00af00\">200</span>, <span style=\"color: #00af00; text-decoration-color: #00af00\">128</span>)       │     <span style=\"color: #00af00; text-decoration-color: #00af00\">3,200,128</span> │\n",
              "├─────────────────────────────────┼────────────────────────┼───────────────┤\n",
              "│ conv1d (<span style=\"color: #0087ff; text-decoration-color: #0087ff\">Conv1D</span>)                 │ (<span style=\"color: #00d7ff; text-decoration-color: #00d7ff\">None</span>, <span style=\"color: #00af00; text-decoration-color: #00af00\">200</span>, <span style=\"color: #00af00; text-decoration-color: #00af00\">256</span>)       │       <span style=\"color: #00af00; text-decoration-color: #00af00\">164,096</span> │\n",
              "├─────────────────────────────────┼────────────────────────┼───────────────┤\n",
              "│ max_pooling1d (<span style=\"color: #0087ff; text-decoration-color: #0087ff\">MaxPooling1D</span>)    │ (<span style=\"color: #00d7ff; text-decoration-color: #00d7ff\">None</span>, <span style=\"color: #00af00; text-decoration-color: #00af00\">100</span>, <span style=\"color: #00af00; text-decoration-color: #00af00\">256</span>)       │             <span style=\"color: #00af00; text-decoration-color: #00af00\">0</span> │\n",
              "├─────────────────────────────────┼────────────────────────┼───────────────┤\n",
              "│ bidirectional (<span style=\"color: #0087ff; text-decoration-color: #0087ff\">Bidirectional</span>)   │ (<span style=\"color: #00d7ff; text-decoration-color: #00d7ff\">None</span>, <span style=\"color: #00af00; text-decoration-color: #00af00\">100</span>, <span style=\"color: #00af00; text-decoration-color: #00af00\">256</span>)       │       <span style=\"color: #00af00; text-decoration-color: #00af00\">394,240</span> │\n",
              "├─────────────────────────────────┼────────────────────────┼───────────────┤\n",
              "│ bidirectional_1 (<span style=\"color: #0087ff; text-decoration-color: #0087ff\">Bidirectional</span>) │ (<span style=\"color: #00d7ff; text-decoration-color: #00d7ff\">None</span>, <span style=\"color: #00af00; text-decoration-color: #00af00\">100</span>, <span style=\"color: #00af00; text-decoration-color: #00af00\">512</span>)       │     <span style=\"color: #00af00; text-decoration-color: #00af00\">1,050,624</span> │\n",
              "├─────────────────────────────────┼────────────────────────┼───────────────┤\n",
              "│ global_max_pooling1d            │ (<span style=\"color: #00d7ff; text-decoration-color: #00d7ff\">None</span>, <span style=\"color: #00af00; text-decoration-color: #00af00\">512</span>)            │             <span style=\"color: #00af00; text-decoration-color: #00af00\">0</span> │\n",
              "│ (<span style=\"color: #0087ff; text-decoration-color: #0087ff\">GlobalMaxPooling1D</span>)            │                        │               │\n",
              "├─────────────────────────────────┼────────────────────────┼───────────────┤\n",
              "│ dropout (<span style=\"color: #0087ff; text-decoration-color: #0087ff\">Dropout</span>)               │ (<span style=\"color: #00d7ff; text-decoration-color: #00d7ff\">None</span>, <span style=\"color: #00af00; text-decoration-color: #00af00\">512</span>)            │             <span style=\"color: #00af00; text-decoration-color: #00af00\">0</span> │\n",
              "├─────────────────────────────────┼────────────────────────┼───────────────┤\n",
              "│ dense (<span style=\"color: #0087ff; text-decoration-color: #0087ff\">Dense</span>)                   │ (<span style=\"color: #00d7ff; text-decoration-color: #00d7ff\">None</span>, <span style=\"color: #00af00; text-decoration-color: #00af00\">128</span>)            │        <span style=\"color: #00af00; text-decoration-color: #00af00\">65,664</span> │\n",
              "├─────────────────────────────────┼────────────────────────┼───────────────┤\n",
              "│ dense_1 (<span style=\"color: #0087ff; text-decoration-color: #0087ff\">Dense</span>)                 │ (<span style=\"color: #00d7ff; text-decoration-color: #00d7ff\">None</span>, <span style=\"color: #00af00; text-decoration-color: #00af00\">256</span>)            │        <span style=\"color: #00af00; text-decoration-color: #00af00\">33,024</span> │\n",
              "├─────────────────────────────────┼────────────────────────┼───────────────┤\n",
              "│ dropout_1 (<span style=\"color: #0087ff; text-decoration-color: #0087ff\">Dropout</span>)             │ (<span style=\"color: #00d7ff; text-decoration-color: #00d7ff\">None</span>, <span style=\"color: #00af00; text-decoration-color: #00af00\">256</span>)            │             <span style=\"color: #00af00; text-decoration-color: #00af00\">0</span> │\n",
              "├─────────────────────────────────┼────────────────────────┼───────────────┤\n",
              "│ dense_2 (<span style=\"color: #0087ff; text-decoration-color: #0087ff\">Dense</span>)                 │ (<span style=\"color: #00d7ff; text-decoration-color: #00d7ff\">None</span>, <span style=\"color: #00af00; text-decoration-color: #00af00\">6</span>)              │         <span style=\"color: #00af00; text-decoration-color: #00af00\">1,542</span> │\n",
              "└─────────────────────────────────┴────────────────────────┴───────────────┘\n",
              "</pre>\n"
            ]
          },
          "metadata": {}
        },
        {
          "output_type": "display_data",
          "data": {
            "text/plain": [
              "\u001b[1m Total params: \u001b[0m\u001b[38;5;34m4,909,318\u001b[0m (18.73 MB)\n"
            ],
            "text/html": [
              "<pre style=\"white-space:pre;overflow-x:auto;line-height:normal;font-family:Menlo,'DejaVu Sans Mono',consolas,'Courier New',monospace\"><span style=\"font-weight: bold\"> Total params: </span><span style=\"color: #00af00; text-decoration-color: #00af00\">4,909,318</span> (18.73 MB)\n",
              "</pre>\n"
            ]
          },
          "metadata": {}
        },
        {
          "output_type": "display_data",
          "data": {
            "text/plain": [
              "\u001b[1m Trainable params: \u001b[0m\u001b[38;5;34m4,909,318\u001b[0m (18.73 MB)\n"
            ],
            "text/html": [
              "<pre style=\"white-space:pre;overflow-x:auto;line-height:normal;font-family:Menlo,'DejaVu Sans Mono',consolas,'Courier New',monospace\"><span style=\"font-weight: bold\"> Trainable params: </span><span style=\"color: #00af00; text-decoration-color: #00af00\">4,909,318</span> (18.73 MB)\n",
              "</pre>\n"
            ]
          },
          "metadata": {}
        },
        {
          "output_type": "display_data",
          "data": {
            "text/plain": [
              "\u001b[1m Non-trainable params: \u001b[0m\u001b[38;5;34m0\u001b[0m (0.00 B)\n"
            ],
            "text/html": [
              "<pre style=\"white-space:pre;overflow-x:auto;line-height:normal;font-family:Menlo,'DejaVu Sans Mono',consolas,'Courier New',monospace\"><span style=\"font-weight: bold\"> Non-trainable params: </span><span style=\"color: #00af00; text-decoration-color: #00af00\">0</span> (0.00 B)\n",
              "</pre>\n"
            ]
          },
          "metadata": {}
        }
      ]
    },
    {
      "cell_type": "markdown",
      "source": [
        "Rispetto al modello base come funzione di loss uso una focal loss che dovrebbe ridurre il dominio delle istanze facili (la previsione dei commenti neutri) e penalizzare di più quando si sbaglia con istanze difficili (previsione commenti threat o identity hate)\n",
        "Questo sempre per ovviare al problema delle classi sbilanciate e migliorare l'F1 score per le classi problematiche."
      ],
      "metadata": {
        "id": "Z9-YuukH91nI"
      }
    },
    {
      "cell_type": "code",
      "source": [
        "def focal_loss(alpha, gamma=2.):\n",
        "    alpha = tf.constant(alpha, dtype=tf.float32)\n",
        "    alpha = tf.reshape(alpha, (1, -1))\n",
        "\n",
        "    def loss(y_true, y_pred):\n",
        "        bce = tf.keras.backend.binary_crossentropy(y_true, y_pred)\n",
        "        p_t = y_true * y_pred + (1 - y_true) * (1 - y_pred)\n",
        "        fl  = alpha * tf.pow(1 - p_t, gamma) * bce\n",
        "        return tf.reduce_mean(fl, axis=-1)\n",
        "\n",
        "    return loss\n",
        "\n",
        "alpha = [class_weights[i] for i in range(len(LABELS))]\n",
        "model.compile(optimizer=\"adam\",\n",
        "              #loss='binary_crossentropy',\n",
        "              loss=focal_loss(alpha, gamma=2.0),\n",
        "              metrics=[tf.keras.metrics.AUC(curve=\"PR\", name=\"auc_pr\")])"
      ],
      "metadata": {
        "id": "1bqI3iQo7Flw"
      },
      "execution_count": null,
      "outputs": []
    },
    {
      "cell_type": "markdown",
      "source": [
        "Qui ho deciso di ridurre il batch_size a un più consueto 32."
      ],
      "metadata": {
        "id": "ctXQlVQQ99df"
      }
    },
    {
      "cell_type": "code",
      "source": [
        "BATCH_SIZE = 32\n",
        "EPOCHS = 20\n",
        "\n",
        "callbacks = [\n",
        "    EarlyStopping(patience=4, restore_best_weights=True),\n",
        "    ReduceLROnPlateau(patience=2, factor=0.5, verbose=1)\n",
        "]\n",
        "\n",
        "history = model.fit(\n",
        "    X_train_os, y_train_os,\n",
        "    validation_data=(X_val, y_val),\n",
        "    epochs=EPOCHS,\n",
        "    batch_size=BATCH_SIZE,\n",
        "    callbacks=callbacks\n",
        ")"
      ],
      "metadata": {
        "colab": {
          "base_uri": "https://localhost:8080/"
        },
        "id": "PKSNdTp74CeR",
        "outputId": "d1b7f580-9fa5-4ebd-b304-599c14d8a9f5"
      },
      "execution_count": null,
      "outputs": [
        {
          "output_type": "stream",
          "name": "stdout",
          "text": [
            "Epoch 1/20\n",
            "\u001b[1m896/896\u001b[0m \u001b[32m━━━━━━━━━━━━━━━━━━━━\u001b[0m\u001b[37m\u001b[0m \u001b[1m42s\u001b[0m 36ms/step - auc_pr: 0.5396 - loss: 0.6930 - val_auc_pr: 0.8164 - val_loss: 0.3319 - learning_rate: 0.0010\n",
            "Epoch 2/20\n",
            "\u001b[1m896/896\u001b[0m \u001b[32m━━━━━━━━━━━━━━━━━━━━\u001b[0m\u001b[37m\u001b[0m \u001b[1m31s\u001b[0m 35ms/step - auc_pr: 0.8196 - loss: 0.3821 - val_auc_pr: 0.8301 - val_loss: 0.3241 - learning_rate: 0.0010\n",
            "Epoch 3/20\n",
            "\u001b[1m896/896\u001b[0m \u001b[32m━━━━━━━━━━━━━━━━━━━━\u001b[0m\u001b[37m\u001b[0m \u001b[1m41s\u001b[0m 35ms/step - auc_pr: 0.8558 - loss: 0.2945 - val_auc_pr: 0.8245 - val_loss: 0.3549 - learning_rate: 0.0010\n",
            "Epoch 4/20\n",
            "\u001b[1m895/896\u001b[0m \u001b[32m━━━━━━━━━━━━━━━━━━━\u001b[0m\u001b[37m━\u001b[0m \u001b[1m0s\u001b[0m 32ms/step - auc_pr: 0.8719 - loss: 0.2530\n",
            "Epoch 4: ReduceLROnPlateau reducing learning rate to 0.0005000000237487257.\n",
            "\u001b[1m896/896\u001b[0m \u001b[32m━━━━━━━━━━━━━━━━━━━━\u001b[0m\u001b[37m\u001b[0m \u001b[1m41s\u001b[0m 34ms/step - auc_pr: 0.8719 - loss: 0.2529 - val_auc_pr: 0.8356 - val_loss: 0.3930 - learning_rate: 0.0010\n",
            "Epoch 5/20\n",
            "\u001b[1m896/896\u001b[0m \u001b[32m━━━━━━━━━━━━━━━━━━━━\u001b[0m\u001b[37m\u001b[0m \u001b[1m42s\u001b[0m 35ms/step - auc_pr: 0.9001 - loss: 0.1993 - val_auc_pr: 0.8502 - val_loss: 0.5019 - learning_rate: 5.0000e-04\n",
            "Epoch 6/20\n",
            "\u001b[1m895/896\u001b[0m \u001b[32m━━━━━━━━━━━━━━━━━━━\u001b[0m\u001b[37m━\u001b[0m \u001b[1m0s\u001b[0m 32ms/step - auc_pr: 0.9183 - loss: 0.1568\n",
            "Epoch 6: ReduceLROnPlateau reducing learning rate to 0.0002500000118743628.\n",
            "\u001b[1m896/896\u001b[0m \u001b[32m━━━━━━━━━━━━━━━━━━━━\u001b[0m\u001b[37m\u001b[0m \u001b[1m40s\u001b[0m 34ms/step - auc_pr: 0.9183 - loss: 0.1568 - val_auc_pr: 0.8452 - val_loss: 0.6373 - learning_rate: 5.0000e-04\n"
          ]
        }
      ]
    },
    {
      "cell_type": "markdown",
      "source": [
        "Applico sempre soglie custom per massimizzare l'F1 score per ciascuna classe"
      ],
      "metadata": {
        "id": "57pzCdca_6a6"
      }
    },
    {
      "cell_type": "code",
      "source": [
        "val_probs = model.predict(X_val, batch_size=256)\n",
        "\n",
        "best_thr = []\n",
        "for i, lab in enumerate(LABELS):\n",
        "    y_true = y_val[:, i]\n",
        "    scores, thrs = [], np.linspace(0.05, 0.9, 18)\n",
        "    for t in thrs:\n",
        "        scores.append(f1_score(y_true, (val_probs[:, i] >= t).astype(int)))\n",
        "    best_thr.append(thrs[np.argmax(scores)])\n",
        "    print(f\"{lab:15}  best_thr = {best_thr[-1]:.2f}   max F1 = {max(scores):.3f}\")\n",
        "\n",
        "test_probs = model.predict(X_test, batch_size=256)\n",
        "y_pred_opt = np.array([\n",
        "    (test_probs[:, i] >= best_thr[i]).astype(int)\n",
        "    for i in range(len(LABELS))\n",
        "]).T\n",
        "\n",
        "print(classification_report(y_test, y_pred_opt, target_names=LABELS))"
      ],
      "metadata": {
        "colab": {
          "base_uri": "https://localhost:8080/"
        },
        "id": "WDwhKh4_5PVx",
        "outputId": "a4c1683c-6f1a-4269-c6a8-9a53579bec18"
      },
      "execution_count": null,
      "outputs": [
        {
          "output_type": "stream",
          "name": "stdout",
          "text": [
            "\u001b[1m23/23\u001b[0m \u001b[32m━━━━━━━━━━━━━━━━━━━━\u001b[0m\u001b[37m\u001b[0m \u001b[1m3s\u001b[0m 81ms/step\n",
            "toxic            best_thr = 0.45   max F1 = 0.818\n",
            "severe_toxic     best_thr = 0.45   max F1 = 0.504\n",
            "obscene          best_thr = 0.45   max F1 = 0.772\n",
            "threat           best_thr = 0.50   max F1 = 0.542\n",
            "insult           best_thr = 0.45   max F1 = 0.708\n",
            "identity_hate    best_thr = 0.40   max F1 = 0.291\n",
            "\u001b[1m23/23\u001b[0m \u001b[32m━━━━━━━━━━━━━━━━━━━━\u001b[0m\u001b[37m\u001b[0m \u001b[1m1s\u001b[0m 42ms/step\n",
            "               precision    recall  f1-score   support\n",
            "\n",
            "        toxic       0.80      0.86      0.83      2261\n",
            " severe_toxic       0.48      0.62      0.54       245\n",
            "      obscene       0.75      0.80      0.77      1283\n",
            "       threat       0.53      0.41      0.46        73\n",
            "       insult       0.63      0.77      0.69      1173\n",
            "identity_hate       0.20      0.58      0.30       215\n",
            "\n",
            "    micro avg       0.67      0.79      0.73      5250\n",
            "    macro avg       0.56      0.67      0.60      5250\n",
            " weighted avg       0.71      0.79      0.74      5250\n",
            "  samples avg       0.27      0.30      0.27      5250\n",
            "\n"
          ]
        }
      ]
    },
    {
      "cell_type": "markdown",
      "source": [
        "Rispetto al caso base più in alto nel codice sono riuscito ad avere delle metriche più accettabili per le classi threat e identity_hate (che almeno si avvicinano a 0.5), mantenendo più o meno stabili le metriche per le altre classi.\n",
        "\n",
        "L'f1 score avg (micro) è passato da 0.71 a 0.73.\n",
        "\n",
        "Meglio di così non sono riuscito a ottenere, probabilmente dovuto a un numero limitato di esempi disponibili."
      ],
      "metadata": {
        "id": "Pb8Cjxk_-N1w"
      }
    },
    {
      "cell_type": "markdown",
      "source": [
        "Qui sotto ho deciso di fare un piccolo test del modello, provando un po' di insulti random (di seguito un esempio)"
      ],
      "metadata": {
        "id": "ndPEfUnMAElU"
      }
    },
    {
      "cell_type": "code",
      "source": [
        "def predict_comment(comment: str):\n",
        "    cleaned = clean_text(comment)\n",
        "    seq = tokenizer.texts_to_sequences([cleaned])\n",
        "    padded = pad_sequences(seq, maxlen=MAX_LEN, padding=\"post\", truncating=\"post\")\n",
        "    probs = model.predict(padded)[0]\n",
        "    return {label: int(prob >= 0.5) for label, prob in zip(LABELS, probs)}\n",
        "\n",
        "example = \"You are a funcking idiot\"\n",
        "print(\"Example:\", predict_comment(example))"
      ],
      "metadata": {
        "colab": {
          "base_uri": "https://localhost:8080/"
        },
        "id": "Iok6BZTH7FfZ",
        "outputId": "e6cebd92-83cf-4781-987a-e58a6febe693"
      },
      "execution_count": null,
      "outputs": [
        {
          "output_type": "stream",
          "name": "stdout",
          "text": [
            "\u001b[1m1/1\u001b[0m \u001b[32m━━━━━━━━━━━━━━━━━━━━\u001b[0m\u001b[37m\u001b[0m \u001b[1m0s\u001b[0m 60ms/step\n",
            "Example: {'toxic': 1, 'severe_toxic': 0, 'obscene': 1, 'threat': 0, 'insult': 1, 'identity_hate': 0}\n"
          ]
        }
      ]
    },
    {
      "cell_type": "markdown",
      "source": [
        "Di seguito mi salvo il modello per un eventuale deployment"
      ],
      "metadata": {
        "id": "nSMBR9cECiGb"
      }
    },
    {
      "cell_type": "code",
      "source": [
        "model.save(\"anti_hater_v3.keras\")   # estensione .keras\n",
        "\n",
        "import pickle, json, os\n",
        "\n",
        "with open(\"tokenizer.pkl\", \"wb\") as f:\n",
        "    pickle.dump(tokenizer, f)\n",
        "\n",
        "with open(\"thresholds.json\", \"w\") as f:\n",
        "    json.dump(dict(zip(LABELS, best_thr)), f, indent=2)\n",
        "\n",
        "print(\"Model, tokenizer adn thresholds saved!\")"
      ],
      "metadata": {
        "colab": {
          "base_uri": "https://localhost:8080/"
        },
        "id": "eJ6u3nD67FdJ",
        "outputId": "c9f0e40a-dcc3-4cd9-f4f1-7f1f3b283f1f"
      },
      "execution_count": null,
      "outputs": [
        {
          "output_type": "stream",
          "name": "stdout",
          "text": [
            "Model, tokenizer adn thresholds saved!\n"
          ]
        }
      ]
    }
  ]
}